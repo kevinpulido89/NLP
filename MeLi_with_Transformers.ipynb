{
  "nbformat": 4,
  "nbformat_minor": 0,
  "metadata": {
    "accelerator": "GPU",
    "colab": {
      "name": "MeLi_with_Transformers.ipynb",
      "provenance": [],
      "collapsed_sections": [
        "ISpznTvd4gj9",
        "bCRRPgsMFncQ",
        "NJsLdhFrOA7r",
        "oP2PNajzN6iC"
      ],
      "toc_visible": true,
      "include_colab_link": true
    },
    "kernelspec": {
      "display_name": "Python 3",
      "language": "python",
      "name": "python3"
    },
    "language_info": {
      "codemirror_mode": {
        "name": "ipython",
        "version": 3
      },
      "file_extension": ".py",
      "mimetype": "text/x-python",
      "name": "python",
      "nbconvert_exporter": "python",
      "pygments_lexer": "ipython3",
      "version": "3.8.2"
    }
  },
  "cells": [
    {
      "cell_type": "markdown",
      "metadata": {
        "id": "view-in-github",
        "colab_type": "text"
      },
      "source": [
        "<a href=\"https://colab.research.google.com/github/kevinpulido89/NLP/blob/master/MeLi_with_Transformers.ipynb\" target=\"_parent\"><img src=\"https://colab.research.google.com/assets/colab-badge.svg\" alt=\"Open In Colab\"/></a>"
      ]
    },
    {
      "cell_type": "markdown",
      "metadata": {
        "colab_type": "text",
        "id": "8udjEQMQ8OwJ"
      },
      "source": [
        "# MeLi Datachallenge with Transformers\n",
        "\n",
        "1. https://ml-challenge.mercadolibre.com/workshop\n",
        "2. https://www.youtube.com/watch?v=tirn18qFaa8"
      ]
    },
    {
      "cell_type": "markdown",
      "metadata": {
        "id": "5XPVLiS8ROm0",
        "colab_type": "text"
      },
      "source": [
        "## Librerias"
      ]
    },
    {
      "cell_type": "code",
      "metadata": {
        "colab_type": "code",
        "id": "f7s6-khk8RGj",
        "colab": {}
      },
      "source": [
        "import pandas as pd\n",
        "import numpy as np"
      ],
      "execution_count": 0,
      "outputs": []
    },
    {
      "cell_type": "code",
      "metadata": {
        "colab_type": "code",
        "outputId": "dc226e80-267b-459a-ab19-61824da21d2e",
        "id": "QJDHHonRROm3",
        "colab": {
          "base_uri": "https://localhost:8080/",
          "height": 188
        }
      },
      "source": [
        "import re\n",
        "import nltk\n",
        "import matplotlib.pyplot as plt\n",
        "from nltk.corpus import stopwords\n",
        "from nltk.stem import SnowballStemmer\n",
        "from nltk.tokenize import word_tokenize\n",
        "from sklearn.preprocessing import LabelEncoder\n",
        "from sklearn.preprocessing import OneHotEncoder, LabelEncoder\n",
        "from sklearn.model_selection import train_test_split\n",
        "\n",
        "\n",
        "import warnings\n",
        "warnings.simplefilter(action='ignore', category=FutureWarning)\n",
        "\n",
        "nltk.download('stopwords')\n",
        "nltk.download('punkt')"
      ],
      "execution_count": 0,
      "outputs": [
        {
          "output_type": "stream",
          "text": [
            "[nltk_data] Downloading package stopwords to C:\\Users\\Kevin\n",
            "[nltk_data]     Pulido\\AppData\\Roaming\\nltk_data...\n",
            "[nltk_data]   Package stopwords is already up-to-date!\n",
            "[nltk_data] Downloading package punkt to C:\\Users\\Kevin\n",
            "[nltk_data]     Pulido\\AppData\\Roaming\\nltk_data...\n",
            "[nltk_data]   Package punkt is already up-to-date!\n"
          ],
          "name": "stderr"
        },
        {
          "output_type": "execute_result",
          "data": {
            "text/plain": [
              "True"
            ]
          },
          "metadata": {
            "tags": []
          },
          "execution_count": 25
        }
      ]
    },
    {
      "cell_type": "markdown",
      "metadata": {
        "id": "anCr75cXROm5",
        "colab_type": "text"
      },
      "source": [
        "#### Funcion Cleaner() y Describe()"
      ]
    },
    {
      "cell_type": "code",
      "metadata": {
        "colab_type": "code",
        "id": "GH3QkrCB0yur",
        "colab": {}
      },
      "source": [
        "# https://www.kaggle.com/procode/sif-embeddings-got-69-accuracy\n",
        "\n",
        "def cleaner(sentence, remove_stopwords=True, stem_words=True):\n",
        "\n",
        "    sentence = sentence.lower()\n",
        "    text = re.sub(\"[^a-zñáéíóúü]\", \" \", sentence)\n",
        "\n",
        "    if remove_stopwords:\n",
        "        words = text.split()                             \n",
        "        stops = set(stopwords.words(\"spanish\"))                  \n",
        "        meaningful_words =  [word for word in words if not word in stops\n",
        "                                                    and not word.startswith('#')\n",
        "                                                    and not word.startswith('@')\n",
        "                                                    # and word != 'x'\n",
        "                                                    and not len(word) <=2]\n",
        "\n",
        "        text = \" \".join(meaningful_words)\n",
        "    \n",
        "    # Optionally, shorten words to their stems\n",
        "    if stem_words:\n",
        "        text = text.split()\n",
        "        stemmer = SnowballStemmer('spanish')\n",
        "        stemmed_words = [stemmer.stem(word) for word in text]\n",
        "        text = \" \".join(stemmed_words)\n",
        "    return(text)\n",
        "    \n",
        "def describe(e):\n",
        "    t = type(e)\n",
        "    try:\n",
        "        s = e.shape\n",
        "    except:\n",
        "        s = len(e)\n",
        "    \n",
        "    return print(t,s)"
      ],
      "execution_count": 0,
      "outputs": []
    },
    {
      "cell_type": "markdown",
      "metadata": {
        "id": "3Syfno1NROm8",
        "colab_type": "text"
      },
      "source": [
        "##### Cargar .CSV"
      ]
    },
    {
      "cell_type": "code",
      "metadata": {
        "colab_type": "code",
        "id": "kBiOR4hqIRgi",
        "colab": {}
      },
      "source": [
        "# df = pd.read_csv('MeLI_TrainSetEspanol.csv') # OR '/content/drive/My Drive/MeLI_TrainSetEspanol.csv'\n",
        "# del df['language']\n",
        "# del df['label_quality']\n",
        "# print(df.shape)\n",
        "# df.head()"
      ],
      "execution_count": 0,
      "outputs": []
    },
    {
      "cell_type": "code",
      "metadata": {
        "colab_type": "code",
        "id": "jmFDSk6YevZN",
        "colab": {}
      },
      "source": [
        "# from tensorflow.python.client import device_lib\n",
        "# device_lib.list_local_devices()"
      ],
      "execution_count": 0,
      "outputs": []
    },
    {
      "cell_type": "code",
      "metadata": {
        "colab_type": "code",
        "id": "TN3CcDJIAxhy",
        "colab": {}
      },
      "source": [
        "# Mapear una clase a un entero que lo represente: CELLPHONES --> 300\n",
        "df['classes'] = LabelEncoder().fit_transform(list(df['category']))"
      ],
      "execution_count": 0,
      "outputs": []
    },
    {
      "cell_type": "code",
      "metadata": {
        "id": "UHxy9r3gROnD",
        "colab_type": "code",
        "colab": {}
      },
      "source": [
        "df['clean_title'] = df['title'].apply(lambda x: cleaner(x))\n",
        "df.head()"
      ],
      "execution_count": 0,
      "outputs": []
    },
    {
      "cell_type": "markdown",
      "metadata": {
        "id": "3_0x62VDROnF",
        "colab_type": "text"
      },
      "source": [
        "#### Guardar en .csv el avance del dataset"
      ]
    },
    {
      "cell_type": "code",
      "metadata": {
        "colab_type": "code",
        "id": "TvBIAuSmkClr",
        "colab": {}
      },
      "source": [
        "# del df['title']\n",
        "# df.to_csv('MeLiTrainCleaned_Stemmed.csv', index=False)"
      ],
      "execution_count": 0,
      "outputs": []
    },
    {
      "cell_type": "markdown",
      "metadata": {
        "id": "JoltfeYCROnH",
        "colab_type": "text"
      },
      "source": [
        "#### Cargar el .csv del avance del dataset"
      ]
    },
    {
      "cell_type": "code",
      "metadata": {
        "id": "lw89fQc4ROnH",
        "colab_type": "code",
        "outputId": "b8c98d59-ffc6-4362-94fe-780fe7ececa2",
        "colab": {}
      },
      "source": [
        "df = pd.read_csv('datasets/MeLiTrainCleaned_Stemmed.csv')\n",
        "describe(df)\n",
        "df.sample(6)"
      ],
      "execution_count": 0,
      "outputs": [
        {
          "output_type": "stream",
          "text": [
            "<class 'pandas.core.frame.DataFrame'> (10000000, 3)\n"
          ],
          "name": "stdout"
        },
        {
          "output_type": "execute_result",
          "data": {
            "text/html": [
              "<div>\n",
              "<style scoped>\n",
              "    .dataframe tbody tr th:only-of-type {\n",
              "        vertical-align: middle;\n",
              "    }\n",
              "\n",
              "    .dataframe tbody tr th {\n",
              "        vertical-align: top;\n",
              "    }\n",
              "\n",
              "    .dataframe thead th {\n",
              "        text-align: right;\n",
              "    }\n",
              "</style>\n",
              "<table border=\"1\" class=\"dataframe\">\n",
              "  <thead>\n",
              "    <tr style=\"text-align: right;\">\n",
              "      <th></th>\n",
              "      <th>category</th>\n",
              "      <th>classes</th>\n",
              "      <th>clean_title</th>\n",
              "    </tr>\n",
              "  </thead>\n",
              "  <tbody>\n",
              "    <tr>\n",
              "      <th>1406356</th>\n",
              "      <td>SPARK_PLUGS</td>\n",
              "      <td>1309</td>\n",
              "      <td>buji encend fiat dens pru</td>\n",
              "    </tr>\n",
              "    <tr>\n",
              "      <th>3541012</th>\n",
              "      <td>MICROPHONES</td>\n",
              "      <td>957</td>\n",
              "      <td>microfon condens yeti pro verd youshar micr</td>\n",
              "    </tr>\n",
              "    <tr>\n",
              "      <th>8622035</th>\n",
              "      <td>MOUTHWASHES</td>\n",
              "      <td>1015</td>\n",
              "      <td>enjuag bucal colgat luminous whit</td>\n",
              "    </tr>\n",
              "    <tr>\n",
              "      <th>3000852</th>\n",
              "      <td>AUTOMOTIVE_SIDE_VIEW_MIRROR_GLASSES</td>\n",
              "      <td>95</td>\n",
              "      <td>vidri retrovisor izquierd peugeot partn</td>\n",
              "    </tr>\n",
              "    <tr>\n",
              "      <th>5363893</th>\n",
              "      <td>AUTOMOTIVE_SIDE_VIEW_MIRRORS</td>\n",
              "      <td>94</td>\n",
              "      <td>espej exterior electr</td>\n",
              "    </tr>\n",
              "    <tr>\n",
              "      <th>9021052</th>\n",
              "      <td>ESSENTIAL_OILS</td>\n",
              "      <td>587</td>\n",
              "      <td>just crem tea tre manuc rosalin banfield</td>\n",
              "    </tr>\n",
              "  </tbody>\n",
              "</table>\n",
              "</div>"
            ],
            "text/plain": [
              "                                    category  classes  \\\n",
              "1406356                          SPARK_PLUGS     1309   \n",
              "3541012                          MICROPHONES      957   \n",
              "8622035                          MOUTHWASHES     1015   \n",
              "3000852  AUTOMOTIVE_SIDE_VIEW_MIRROR_GLASSES       95   \n",
              "5363893         AUTOMOTIVE_SIDE_VIEW_MIRRORS       94   \n",
              "9021052                       ESSENTIAL_OILS      587   \n",
              "\n",
              "                                         clean_title  \n",
              "1406356                    buji encend fiat dens pru  \n",
              "3541012  microfon condens yeti pro verd youshar micr  \n",
              "8622035            enjuag bucal colgat luminous whit  \n",
              "3000852      vidri retrovisor izquierd peugeot partn  \n",
              "5363893                        espej exterior electr  \n",
              "9021052     just crem tea tre manuc rosalin banfield  "
            ]
          },
          "metadata": {
            "tags": []
          },
          "execution_count": 4
        }
      ]
    },
    {
      "cell_type": "markdown",
      "metadata": {
        "id": "kmUk_CSnROnJ",
        "colab_type": "text"
      },
      "source": [
        "##### Verificar cuantos valores nulos hay por columna"
      ]
    },
    {
      "cell_type": "code",
      "metadata": {
        "id": "lHJypbE1ROnJ",
        "colab_type": "code",
        "outputId": "93c31ef8-3eec-4bea-ea68-e898f89f71b3",
        "colab": {}
      },
      "source": [
        "print(df.isnull().sum())\n",
        "df = df.dropna()\n",
        "# df_tmp = df.copy()"
      ],
      "execution_count": 0,
      "outputs": [
        {
          "output_type": "stream",
          "text": [
            "category          0\n",
            "classes           0\n",
            "clean_title    2427\n",
            "dtype: int64\n"
          ],
          "name": "stdout"
        }
      ]
    },
    {
      "cell_type": "markdown",
      "metadata": {
        "id": "CHtQE_eVROnL",
        "colab_type": "text"
      },
      "source": [
        "##### Verificar la categoria a la que pertenece un codigo de una clase"
      ]
    },
    {
      "cell_type": "code",
      "metadata": {
        "id": "mCvNWYxUROnM",
        "colab_type": "code",
        "outputId": "2102925d-96cd-4c18-e2f4-d01584862dae",
        "colab": {}
      },
      "source": [
        "# Verificar la cetegoria a la que pertenece un codigo de una clase\n",
        "set(df['category'][df['classes']==236])"
      ],
      "execution_count": 0,
      "outputs": [
        {
          "output_type": "execute_result",
          "data": {
            "text/plain": [
              "{'CAMERAS'}"
            ]
          },
          "metadata": {
            "tags": []
          },
          "execution_count": 7
        }
      ]
    },
    {
      "cell_type": "markdown",
      "metadata": {
        "id": "9I861UwwROnO",
        "colab_type": "text"
      },
      "source": [
        "##### Verificar las oraciones a la que pertenece un codigo de una clase"
      ]
    },
    {
      "cell_type": "code",
      "metadata": {
        "id": "k3zZwplHROnO",
        "colab_type": "code",
        "outputId": "71f25076-436b-4b06-9724-2165c8ed0889",
        "colab": {}
      },
      "source": [
        "df['clean_title'][df['classes']==1573]"
      ],
      "execution_count": 0,
      "outputs": [
        {
          "output_type": "execute_result",
          "data": {
            "text/plain": [
              "41399        yogurter nuev industri nacional garanti mes\n",
              "45759      yogurter buenyogur funcion blanc cott orginal\n",
              "54045             yogurter enfriamient automat cuisinart\n",
              "68296          tabler cort calid vent direct fabric luch\n",
              "78408                                yogurter atma quilm\n",
              "                               ...                      \n",
              "9911123                      yogurter electron nutrichef\n",
              "9937280                               yogurter atma nuev\n",
              "9963145       yogurter yelm jarr vidri yogur san natural\n",
              "9979197             dash mini yogurt grieg mak blanc ros\n",
              "9986170                yogurter queser cuisinart mad usa\n",
              "Name: clean_title, Length: 530, dtype: object"
            ]
          },
          "metadata": {
            "tags": []
          },
          "execution_count": 11
        }
      ]
    },
    {
      "cell_type": "code",
      "metadata": {
        "id": "DX2R2k71ROnQ",
        "colab_type": "code",
        "colab": {}
      },
      "source": [
        "from sklearn.model_selection import train_test_split"
      ],
      "execution_count": 0,
      "outputs": []
    },
    {
      "cell_type": "code",
      "metadata": {
        "id": "9LdVANZWROnS",
        "colab_type": "code",
        "colab": {}
      },
      "source": [
        "X_train, X_val, y_train, y_val = train_test_split(df.clean_title.values,\n",
        "                                                  df.classes.values,\n",
        "                                                  test_size = 0.2,\n",
        "                                                  random_state = 17,\n",
        "                                                  stratify = df.classes.values)"
      ],
      "execution_count": 0,
      "outputs": []
    },
    {
      "cell_type": "code",
      "metadata": {
        "id": "Ha7aiNaeROnU",
        "colab_type": "code",
        "outputId": "ca4b9f25-a947-4464-8a25-db8a9d4866d7",
        "colab": {}
      },
      "source": [
        "describe(X_train)\n",
        "describe(y_train)\n",
        "\n",
        "describe(X_val)\n",
        "describe(y_val)"
      ],
      "execution_count": 0,
      "outputs": [
        {
          "output_type": "stream",
          "text": [
            "<class 'numpy.ndarray'> (7998058,)\n",
            "<class 'numpy.ndarray'> (7998058,)\n",
            "<class 'numpy.ndarray'> (1999515,)\n",
            "<class 'numpy.ndarray'> (1999515,)\n"
          ],
          "name": "stdout"
        }
      ]
    },
    {
      "cell_type": "markdown",
      "metadata": {
        "id": "8OAP4jmrROnW",
        "colab_type": "text"
      },
      "source": [
        "## Loading Tokenizer and Encoding the data"
      ]
    },
    {
      "cell_type": "code",
      "metadata": {
        "id": "Ex8yKsP8ROnX",
        "colab_type": "code",
        "colab": {}
      },
      "source": [
        "import torch\n",
        "from tqdm.notebook import tqdm\n",
        "from torch.utils.data import TensorDataset\n",
        "\n",
        "# https://huggingface.co/transformers/model_doc/auto.html#autotokenizer\n",
        "from transformers import AutoTokenizer, AutoModelWithLMHead"
      ],
      "execution_count": 0,
      "outputs": []
    },
    {
      "cell_type": "code",
      "metadata": {
        "id": "n7Zez7H_ROnZ",
        "colab_type": "code",
        "outputId": "2bf24f48-15f2-4121-d365-c39345b6ac46",
        "colab": {
          "referenced_widgets": [
            "60961146f3e8468196455f468e4b6973"
          ]
        }
      },
      "source": [
        "tokenizer = AutoTokenizer.from_pretrained(\"dccuchile/bert-base-spanish-wwm-cased\")"
      ],
      "execution_count": 0,
      "outputs": [
        {
          "output_type": "display_data",
          "data": {
            "application/vnd.jupyter.widget-view+json": {
              "model_id": "60961146f3e8468196455f468e4b6973",
              "version_major": 2,
              "version_minor": 0
            },
            "text/plain": [
              "HBox(children=(FloatProgress(value=0.0, description='Downloading', max=441944381.0, style=ProgressStyle(descri…"
            ]
          },
          "metadata": {
            "tags": []
          }
        },
        {
          "output_type": "stream",
          "text": [
            "\n"
          ],
          "name": "stdout"
        }
      ]
    },
    {
      "cell_type": "code",
      "metadata": {
        "id": "yKmvdGuhROna",
        "colab_type": "code",
        "colab": {}
      },
      "source": [
        "encoded_data_train = tokenizer.batch_encode_plus(X_train,\n",
        "                                                 add_special_tokens = True,\n",
        "                                                 return_attention_masks = True,\n",
        "                                                 pad_to_max_length = True,\n",
        "                                                 max_length = 256,\n",
        "                                                 return_tensors = 'pt')\n",
        "\n",
        "encoded_data_val   = tokenizer.batch_encode_plus(X_val,\n",
        "                                                 add_special_tokens = True,\n",
        "                                                 return_attention_masks = True,\n",
        "                                                 pad_to_max_length = True,\n",
        "                                                 max_length = 256,\n",
        "                                                 return_tensors = 'pt')"
      ],
      "execution_count": 0,
      "outputs": []
    },
    {
      "cell_type": "code",
      "metadata": {
        "id": "vBmWrbZYROnc",
        "colab_type": "code",
        "colab": {}
      },
      "source": [
        "inputs_ids_train = encoded_data_train['input_ids']\n",
        "attention_mask_train = encoded_data_train['attention_mask']\n",
        "labels_train = torch.tensor(y_train) # df[df.data_type == 'train']['label'].values\n",
        "\n",
        "inputs_ids_val = encoded_data_val['input_ids']\n",
        "attention_mask_val = encoded_data_val['attention_mask']\n",
        "labels_val = torch.tensor(y_val) # df[df.data_type == 'val']['label'].values"
      ],
      "execution_count": 0,
      "outputs": []
    },
    {
      "cell_type": "code",
      "metadata": {
        "id": "nTFY7yt9ROne",
        "colab_type": "code",
        "colab": {}
      },
      "source": [
        "dataset_train = TensorDataset(inputs_ids_train,\n",
        "                              attention_mask_train,\n",
        "                              labels_train) # len(dataset_train) = 7998058 || torch.utils.data.dataset.TensorDataset\n",
        "\n",
        "dataset_val = TensorDataset(inputs_ids_val,\n",
        "                            attention_mask_val,\n",
        "                            labels_val) # len(dataset_val) = 1999515 || torch.utils.data.dataset.TensorDataset"
      ],
      "execution_count": 0,
      "outputs": []
    },
    {
      "cell_type": "code",
      "metadata": {
        "id": "hcgHt1oTROnf",
        "colab_type": "code",
        "colab": {}
      },
      "source": [
        "model = AutoModelWithLMHead.from_pretrained(\"dccuchile/bert-base-spanish-wwm-cased\")"
      ],
      "execution_count": 0,
      "outputs": []
    },
    {
      "cell_type": "code",
      "metadata": {
        "id": "LBHBISkaROni",
        "colab_type": "code",
        "colab": {}
      },
      "source": [
        ""
      ],
      "execution_count": 0,
      "outputs": []
    },
    {
      "cell_type": "code",
      "metadata": {
        "id": "2Nt79kDUROnj",
        "colab_type": "code",
        "colab": {}
      },
      "source": [
        ""
      ],
      "execution_count": 0,
      "outputs": []
    },
    {
      "cell_type": "code",
      "metadata": {
        "id": "mrqvOZ4cROnm",
        "colab_type": "code",
        "colab": {}
      },
      "source": [
        ""
      ],
      "execution_count": 0,
      "outputs": []
    },
    {
      "cell_type": "markdown",
      "metadata": {
        "colab_type": "text",
        "id": "bJWIavx19b7H"
      },
      "source": [
        "#### Arquitectura del modelo \n",
        "1. https://www.dlology.com/blog/how-to-use-keras-sparse_categorical_crossentropy/\n",
        "2. https://medium.com/@sakeshpusuluri123/activation-functions-and-weight-initialization-in-deep-learning-ebc326e62a5c\n",
        "3. https://medium.com/usf-msds/deep-learning-best-practices-1-weight-initialization-14e5c0295b94\n",
        "4. https://www.machinecurve.com/index.php/2019/09/16/he-xavier-initialization-activation-functions-choose-wisely/\n",
        "5. https://www.analyticsvidhya.com/blog/2017/10/fundamentals-deep-learning-activation-functions-when-to-use-them/\n",
        "6. https://keras.io/layers/advanced-activations/\n",
        "7. https://mlfromscratch.com/activation-functions-explained/#/\n",
        "8. https://stackoverflow.com/questions/48828478/how-do-you-use-keras-leakyrelu-in-python\n",
        "9. https://www.machinecurve.com/index.php/2019/11/12/using-leaky-relu-with-keras/\n",
        "\n",
        "- The SELU function also requires a weight initialization method called LeCun Normal,\n",
        "- if you want to use dropout, you have to use a special version called Alpha Dropout --> from keras.layers.noise import AlphaDropout"
      ]
    },
    {
      "cell_type": "code",
      "metadata": {
        "id": "wYgsyrjeROno",
        "colab_type": "code",
        "outputId": "f72302e6-d4fc-4ad0-d492-4a428cadf647",
        "colab": {}
      },
      "source": [
        "from tensorflow.keras.layers import LeakyReLU\n",
        "\n",
        "# now add a ReLU layer explicitly:\n",
        "model.add(LeakyReLU(alpha=0.05))\n",
        "\n",
        "# or since TF2, as @craq mentionned:\n",
        "lrelu = lambda x: LeakyReLU(alpha=0.1)(x)\n",
        "model.add(Conv2D(..., activation=lrelu, ...)\n",
        "          \n",
        "'''\n",
        "In tf2.0 I had to modify that a bit: lrelu = lambda x: tf.keras.layers.LeakyReLU(alpha=0.1)(x) – craq Sep 16 at 21:52\n",
        "to load saved model, use : keras.models.load_model(\"/path/to/model.h5\", custom_objects = {'<lambda>': lrelu} ) – Christophorus Reyhan Nov 17 at 15:00 \n",
        "'''\n",
        "                    \n",
        "from tf.keras.utils.generic_utils import get_custom_objects\n",
        "# Add the GELU function to Keras\n",
        "def gelu(x):\n",
        "    return 0.5 * x * (1 + tf.tanh(tf.sqrt(2 / np.pi) * (x + 0.044715 * tf.pow(x, 3))))\n",
        "get_custom_objects().update({'gelu': Activation(gelu)})\n",
        "\n",
        "# Add leaky-relu so we can use it as a string\n",
        "get_custom_objects().update({'leaky-relu': Activation(LeakyReLU(alpha=0.2))})\n",
        "\n",
        "act_func = ['sigmoid', 'relu', 'elu', 'leaky-relu', 'selu', 'gelu']\n",
        "          \n",
        "          \n",
        "if(activation == 'selu'):\n",
        "          model.add(Conv2D(32, kernel_size=(3, 3),\n",
        "                           activation=activation,\n",
        "                           input_shape=input_shape,\n",
        "                           kernel_initializer='lecun_normal')) # <---  !!!!!!!!!!!"
      ],
      "execution_count": 0,
      "outputs": [
        {
          "output_type": "error",
          "ename": "SyntaxError",
          "evalue": "invalid syntax (<ipython-input-1-dbe07faf87cc>, line 13)",
          "traceback": [
            "\u001b[1;36m  File \u001b[1;32m\"<ipython-input-1-dbe07faf87cc>\"\u001b[1;36m, line \u001b[1;32m13\u001b[0m\n\u001b[1;33m    '''\u001b[0m\n\u001b[1;37m       \n^\u001b[0m\n\u001b[1;31mSyntaxError\u001b[0m\u001b[1;31m:\u001b[0m invalid syntax\n"
          ]
        }
      ]
    },
    {
      "cell_type": "code",
      "metadata": {
        "colab_type": "code",
        "id": "rrYEQpuijvJ4",
        "outputId": "7d3b0a18-c825-4681-913f-9519285a9187",
        "colab": {
          "base_uri": "https://localhost:8080/",
          "height": 591
        }
      },
      "source": [
        "model_NN = Sequential(name='Neural_Network')\n",
        "\n",
        "model_NN.add(Dense(units=125, activation='relu', kernel_initializer='he_normal', input_shape=(X_train.shape[1],)))\n",
        "model_NN.add(Dense(150, activation='relu', kernel_initializer='he_normal'))\n",
        "model_NN.add(Dropout(0.25))\n",
        "model_NN.add(Dense(175, activation='relu', kernel_initializer='he_normal'))\n",
        "model_NN.add(Dense(250, activation='relu', kernel_initializer='he_normal'))\n",
        "model_NN.add(Dense(350, activation='relu', kernel_initializer='he_normal'))\n",
        "model_NN.add(Dropout(0.3))\n",
        "model_NN.add(Dense(450, activation='relu', kernel_initializer='he_normal'))\n",
        "model_NN.add(Dense(550, activation='relu', kernel_initializer='he_normal'))\n",
        "model_NN.add(Dense(650, activation='relu', kernel_initializer='he_normal'))\n",
        "model_NN.add(Dropout(0.38))\n",
        "model_NN.add(Dense(750, activation='relu', kernel_initializer='he_normal'))\n",
        "model_NN.add(Dense(n_clases, activation='softmax'))\n",
        "\n",
        "# sgd = SGD(learning_rate=0.1, momentum=0.9, nesterov=True, decay=1e-2/epochs)\n",
        "adam = Adam(learning_rate=0.01, decay=1e-2/10) #decay --> decaimiento del learningRate\n",
        "\n",
        "model_NN.compile(loss='sparse_categorical_crossentropy',\n",
        "                 optimizer='adam', # Adadelta\n",
        "                 metrics=['accuracy']) # sparse_categorical_accuracy\n",
        "                 \n",
        "model_NN.summary()"
      ],
      "execution_count": 0,
      "outputs": [
        {
          "output_type": "stream",
          "text": [
            "Model: \"Neural_Network\"\n",
            "_________________________________________________________________\n",
            "Layer (type)                 Output Shape              Param #   \n",
            "=================================================================\n",
            "dense_92 (Dense)             (None, 125)               12625     \n",
            "_________________________________________________________________\n",
            "dense_93 (Dense)             (None, 150)               18900     \n",
            "_________________________________________________________________\n",
            "dropout_21 (Dropout)         (None, 150)               0         \n",
            "_________________________________________________________________\n",
            "dense_94 (Dense)             (None, 175)               26425     \n",
            "_________________________________________________________________\n",
            "dense_95 (Dense)             (None, 250)               44000     \n",
            "_________________________________________________________________\n",
            "dense_96 (Dense)             (None, 350)               87850     \n",
            "_________________________________________________________________\n",
            "dropout_22 (Dropout)         (None, 350)               0         \n",
            "_________________________________________________________________\n",
            "dense_97 (Dense)             (None, 450)               157950    \n",
            "_________________________________________________________________\n",
            "dense_98 (Dense)             (None, 550)               248050    \n",
            "_________________________________________________________________\n",
            "dense_99 (Dense)             (None, 650)               358150    \n",
            "_________________________________________________________________\n",
            "dropout_23 (Dropout)         (None, 650)               0         \n",
            "_________________________________________________________________\n",
            "dense_100 (Dense)            (None, 750)               488250    \n",
            "_________________________________________________________________\n",
            "dense_101 (Dense)            (None, 1574)              1182074   \n",
            "=================================================================\n",
            "Total params: 2,624,274\n",
            "Trainable params: 2,624,274\n",
            "Non-trainable params: 0\n",
            "_________________________________________________________________\n"
          ],
          "name": "stdout"
        }
      ]
    },
    {
      "cell_type": "code",
      "metadata": {
        "colab_type": "code",
        "id": "_gYAPXqXo9SQ",
        "outputId": "84919a82-55c8-441b-818a-40f4b41893cc",
        "colab": {
          "base_uri": "https://localhost:8080/",
          "height": 1000
        }
      },
      "source": [
        "kwargs = {'epochs': 15,\n",
        "          'batch_size': 6998,\n",
        "          'validation_split':0.125}\n",
        "\n",
        "history_1 = model_NN.fit(X_train,\n",
        "                          Y_train,\n",
        "                          **kwargs)"
      ],
      "execution_count": 0,
      "outputs": [
        {
          "output_type": "stream",
          "text": [
            "Train on 6998300 samples, validate on 999758 samples\n",
            "Epoch 1/15\n",
            "6998300/6998300 [==============================] - 60s 9us/sample - loss: 2.6090 - accuracy: 0.4777 - val_loss: 1.4535 - val_accuracy: 0.6879\n",
            "Epoch 2/15\n",
            "6998300/6998300 [==============================] - 59s 8us/sample - loss: 1.7305 - accuracy: 0.6249 - val_loss: 1.2984 - val_accuracy: 0.7180\n",
            "Epoch 3/15\n",
            "6998300/6998300 [==============================] - 59s 8us/sample - loss: 1.5789 - accuracy: 0.6558 - val_loss: 1.2175 - val_accuracy: 0.7350\n",
            "Epoch 4/15\n",
            "6998300/6998300 [==============================] - 59s 8us/sample - loss: 1.4999 - accuracy: 0.6719 - val_loss: 1.1649 - val_accuracy: 0.7468\n",
            "Epoch 5/15\n",
            "6998300/6998300 [==============================] - 60s 9us/sample - loss: 1.4501 - accuracy: 0.6820 - val_loss: 1.1416 - val_accuracy: 0.7520\n",
            "Epoch 6/15\n",
            "6998300/6998300 [==============================] - 60s 9us/sample - loss: 1.4147 - accuracy: 0.6892 - val_loss: 1.1280 - val_accuracy: 0.7543\n",
            "Epoch 7/15\n",
            "6998300/6998300 [==============================] - 59s 9us/sample - loss: 1.3885 - accuracy: 0.6946 - val_loss: 1.1043 - val_accuracy: 0.7597\n",
            "Epoch 8/15\n",
            "6998300/6998300 [==============================] - 60s 9us/sample - loss: 1.3670 - accuracy: 0.6990 - val_loss: 1.0956 - val_accuracy: 0.7617\n",
            "Epoch 9/15\n",
            "6998300/6998300 [==============================] - 60s 9us/sample - loss: 1.3503 - accuracy: 0.7023 - val_loss: 1.0848 - val_accuracy: 0.7634\n",
            "Epoch 10/15\n",
            "6998300/6998300 [==============================] - 60s 9us/sample - loss: 1.3363 - accuracy: 0.7051 - val_loss: 1.0805 - val_accuracy: 0.7641\n",
            "Epoch 11/15\n",
            "6998300/6998300 [==============================] - 59s 8us/sample - loss: 1.3243 - accuracy: 0.7075 - val_loss: 1.0669 - val_accuracy: 0.7671\n",
            "Epoch 12/15\n",
            "6998300/6998300 [==============================] - 59s 8us/sample - loss: 1.3139 - accuracy: 0.7095 - val_loss: 1.0528 - val_accuracy: 0.7709\n",
            "Epoch 13/15\n",
            "6998300/6998300 [==============================] - 60s 9us/sample - loss: 1.3039 - accuracy: 0.7116 - val_loss: 1.0574 - val_accuracy: 0.7693\n",
            "Epoch 14/15\n",
            "6998300/6998300 [==============================] - 59s 9us/sample - loss: 1.2957 - accuracy: 0.7132 - val_loss: 1.0427 - val_accuracy: 0.7725\n",
            "Epoch 15/15\n",
            "6998300/6998300 [==============================] - 59s 8us/sample - loss: 1.2886 - accuracy: 0.7145 - val_loss: 1.0467 - val_accuracy: 0.7721\n"
          ],
          "name": "stdout"
        }
      ]
    },
    {
      "cell_type": "code",
      "metadata": {
        "colab_type": "code",
        "id": "jZiiHCnupaR2",
        "outputId": "aaf5b6df-bdc2-4271-f3bb-516a6a7b63b1",
        "colab": {
          "base_uri": "https://localhost:8080/",
          "height": 67
        }
      },
      "source": [
        "lss, acc = model_NN.evaluate(X_test,\n",
        "                               Y_test,\n",
        "                               batch_size=kwargs['batch_size'])\n",
        "print('Test score:', lss)\n",
        "print('Test accuracy:', acc)"
      ],
      "execution_count": 0,
      "outputs": [
        {
          "output_type": "stream",
          "text": [
            "IOPub data rate exceeded.\n",
            "The notebook server will temporarily stop sending output\n",
            "to the client in order to avoid crashing it.\n",
            "To change this limit, set the config variable\n",
            "`--NotebookApp.iopub_data_rate_limit`.\n",
            "\n",
            "Current values:\n",
            "NotebookApp.iopub_data_rate_limit=1000000.0 (bytes/sec)\n",
            "NotebookApp.rate_limit_window=3.0 (secs)\n",
            "\n"
          ],
          "name": "stderr"
        },
        {
          "output_type": "stream",
          "text": [
            "Test score: 1.047773535855088\n",
            "Test accuracy: 0.7720452\n"
          ],
          "name": "stdout"
        }
      ]
    },
    {
      "cell_type": "markdown",
      "metadata": {
        "id": "cndYsFsoROnv",
        "colab_type": "text"
      },
      "source": [
        "#### ANN con LeakyReLU"
      ]
    },
    {
      "cell_type": "markdown",
      "metadata": {
        "id": "eLxde7HQROnv",
        "colab_type": "text"
      },
      "source": [
        "- https://machinelearningmastery.com/dropout-regularization-deep-learning-models-keras/\n",
        "- https://keras.io/optimizers/"
      ]
    },
    {
      "cell_type": "code",
      "metadata": {
        "id": "a2j8qDXIROnv",
        "colab_type": "code",
        "outputId": "66fcc3f0-ffc3-4211-a7b4-3d0562d4773d",
        "colab": {}
      },
      "source": [
        "lrelu = lambda x: LeakyReLU(alpha=0.1)(x)\n",
        "\n",
        "model_NN2 = Sequential(name='Neural_Network_LeakyReLU')\n",
        "\n",
        "model_NN2.add(Dense(units=125, activation=lrelu, kernel_initializer='he_normal', input_shape=(X_train.shape[1],)))\n",
        "model_NN2.add(Dense(150, activation=lrelu, kernel_initializer='he_normal'))\n",
        "model_NN2.add(Dropout(0.25))\n",
        "model_NN2.add(Dense(175, activation=lrelu, kernel_initializer='he_normal'))\n",
        "model_NN2.add(Dense(250, activation=lrelu, kernel_initializer='he_normal'))\n",
        "model_NN2.add(Dense(350, activation=lrelu, kernel_initializer='he_normal'))\n",
        "model_NN2.add(Dropout(0.3))\n",
        "model_NN2.add(Dense(450, activation=lrelu, kernel_initializer='he_normal'))\n",
        "model_NN2.add(Dense(550, activation=lrelu, kernel_initializer='he_normal'))\n",
        "model_NN2.add(Dense(650, activation=lrelu, kernel_initializer='he_normal'))\n",
        "model_NN2.add(Dropout(0.38))\n",
        "model_NN2.add(Dense(750, activation=lrelu, kernel_initializer='he_normal'))\n",
        "model_NN2.add(Dense(n_clases, activation='softmax'))\n",
        "\n",
        "# sgd = SGD(learning_rate=0.1, momentum=0.9, nesterov=True, decay=1e-2/epochs)\n",
        "adam = Adam(learning_rate=0.01, decay=1e-2/10) #decay --> decaimiento del learningRate\n",
        "\n",
        "model_NN2.compile(loss='sparse_categorical_crossentropy',\n",
        "                 optimizer='adam', # Adadelta\n",
        "                 metrics=['accuracy']) # sparse_categorical_accuracy\n",
        "                 \n",
        "model_NN2.summary()"
      ],
      "execution_count": 0,
      "outputs": [
        {
          "output_type": "stream",
          "text": [
            "Model: \"Neural_Network_LeakyReLU\"\n",
            "_________________________________________________________________\n",
            "Layer (type)                 Output Shape              Param #   \n",
            "=================================================================\n",
            "dense_82 (Dense)             (None, 125)               12625     \n",
            "_________________________________________________________________\n",
            "dense_83 (Dense)             (None, 150)               18900     \n",
            "_________________________________________________________________\n",
            "dropout_18 (Dropout)         (None, 150)               0         \n",
            "_________________________________________________________________\n",
            "dense_84 (Dense)             (None, 175)               26425     \n",
            "_________________________________________________________________\n",
            "dense_85 (Dense)             (None, 250)               44000     \n",
            "_________________________________________________________________\n",
            "dense_86 (Dense)             (None, 350)               87850     \n",
            "_________________________________________________________________\n",
            "dropout_19 (Dropout)         (None, 350)               0         \n",
            "_________________________________________________________________\n",
            "dense_87 (Dense)             (None, 450)               157950    \n",
            "_________________________________________________________________\n",
            "dense_88 (Dense)             (None, 550)               248050    \n",
            "_________________________________________________________________\n",
            "dense_89 (Dense)             (None, 650)               358150    \n",
            "_________________________________________________________________\n",
            "dropout_20 (Dropout)         (None, 650)               0         \n",
            "_________________________________________________________________\n",
            "dense_90 (Dense)             (None, 750)               488250    \n",
            "_________________________________________________________________\n",
            "dense_91 (Dense)             (None, 1574)              1182074   \n",
            "=================================================================\n",
            "Total params: 2,624,274\n",
            "Trainable params: 2,624,274\n",
            "Non-trainable params: 0\n",
            "_________________________________________________________________\n"
          ],
          "name": "stdout"
        }
      ]
    },
    {
      "cell_type": "code",
      "metadata": {
        "id": "GixT3-a4ROnx",
        "colab_type": "code",
        "outputId": "dcc0e217-6e48-465d-c8bb-34d60168ee5e",
        "colab": {}
      },
      "source": [
        "kwargs = {'epochs': 15,\n",
        "          'batch_size': 6998,\n",
        "          'validation_split':0.125}\n",
        "# ,       'validation_data':(X_test,Y_test)\n",
        "\n",
        "history_2 = model_NN2.fit(X_train,\n",
        "                          Y_train,\n",
        "                          **kwargs)"
      ],
      "execution_count": 0,
      "outputs": [
        {
          "output_type": "stream",
          "text": [
            "Train on 6998300 samples, validate on 999758 samples\n",
            "Epoch 1/15\n",
            "6998300/6998300 [==============================] - 61s 9us/sample - loss: 2.2066 - accuracy: 0.5548 - val_loss: 1.3021 - val_accuracy: 0.7237\n",
            "Epoch 2/15\n",
            "6998300/6998300 [==============================] - 60s 9us/sample - loss: 1.5086 - accuracy: 0.6748 - val_loss: 1.1756 - val_accuracy: 0.7472\n",
            "Epoch 3/15\n",
            "6998300/6998300 [==============================] - 60s 9us/sample - loss: 1.3870 - accuracy: 0.6986 - val_loss: 1.1119 - val_accuracy: 0.7605\n",
            "Epoch 4/15\n",
            "6998300/6998300 [==============================] - 60s 9us/sample - loss: 1.3219 - accuracy: 0.7113 - val_loss: 1.0765 - val_accuracy: 0.7680\n",
            "Epoch 5/15\n",
            "6998300/6998300 [==============================] - 61s 9us/sample - loss: 1.2791 - accuracy: 0.7198 - val_loss: 1.0533 - val_accuracy: 0.7718\n",
            "Epoch 6/15\n",
            "6998300/6998300 [==============================] - 61s 9us/sample - loss: 1.2484 - accuracy: 0.7262 - val_loss: 1.0301 - val_accuracy: 0.7765\n",
            "Epoch 7/15\n",
            "6998300/6998300 [==============================] - 61s 9us/sample - loss: 1.2234 - accuracy: 0.7308 - val_loss: 1.0173 - val_accuracy: 0.7795\n",
            "Epoch 8/15\n",
            "6998300/6998300 [==============================] - 61s 9us/sample - loss: 1.2039 - accuracy: 0.7346 - val_loss: 1.0058 - val_accuracy: 0.7816\n",
            "Epoch 9/15\n",
            "6998300/6998300 [==============================] - 61s 9us/sample - loss: 1.1872 - accuracy: 0.7378 - val_loss: 0.9932 - val_accuracy: 0.7851\n",
            "Epoch 10/15\n",
            "6998300/6998300 [==============================] - 61s 9us/sample - loss: 1.1731 - accuracy: 0.7406 - val_loss: 0.9836 - val_accuracy: 0.7864\n",
            "Epoch 11/15\n",
            "6998300/6998300 [==============================] - 61s 9us/sample - loss: 1.1601 - accuracy: 0.7433 - val_loss: 0.9760 - val_accuracy: 0.7877\n",
            "Epoch 12/15\n",
            "6998300/6998300 [==============================] - 61s 9us/sample - loss: 1.1493 - accuracy: 0.7454 - val_loss: 0.9684 - val_accuracy: 0.7895\n",
            "Epoch 13/15\n",
            "6998300/6998300 [==============================] - 61s 9us/sample - loss: 1.1391 - accuracy: 0.7474 - val_loss: 0.9589 - val_accuracy: 0.7908\n",
            "Epoch 14/15\n",
            "6998300/6998300 [==============================] - 61s 9us/sample - loss: 1.1309 - accuracy: 0.7490 - val_loss: 0.9538 - val_accuracy: 0.7925\n",
            "Epoch 15/15\n",
            "6998300/6998300 [==============================] - 61s 9us/sample - loss: 1.1224 - accuracy: 0.7507 - val_loss: 0.9477 - val_accuracy: 0.7940\n"
          ],
          "name": "stdout"
        }
      ]
    },
    {
      "cell_type": "code",
      "metadata": {
        "id": "q5fMGzMSROnz",
        "colab_type": "code",
        "outputId": "0563aad4-bd5b-489d-a7df-9024272d2ec5",
        "colab": {}
      },
      "source": [
        "lss2, acc2 = model_NN2.evaluate(X_test,\n",
        "                                Y_test,\n",
        "                                batch_size=kwargs['batch_size'])\n",
        "print('Test score:', lss2)\n",
        "print('Test accuracy:', acc2)"
      ],
      "execution_count": 0,
      "outputs": [
        {
          "output_type": "stream",
          "text": [
            "IOPub data rate exceeded.\n",
            "The notebook server will temporarily stop sending output\n",
            "to the client in order to avoid crashing it.\n",
            "To change this limit, set the config variable\n",
            "`--NotebookApp.iopub_data_rate_limit`.\n",
            "\n",
            "Current values:\n",
            "NotebookApp.iopub_data_rate_limit=1000000.0 (bytes/sec)\n",
            "NotebookApp.rate_limit_window=3.0 (secs)\n",
            "\n"
          ],
          "name": "stderr"
        },
        {
          "output_type": "stream",
          "text": [
            "Test score: 0.9482711596785236\n",
            "Test accuracy: 0.79404557\n"
          ],
          "name": "stdout"
        }
      ]
    },
    {
      "cell_type": "markdown",
      "metadata": {
        "id": "9Rp6cRnmROn0",
        "colab_type": "text"
      },
      "source": [
        "- https://keras.io/examples/reuters_mlp_relu_vs_selu/\n",
        "- https://machinelearningmastery.com/dropout-regularization-deep-learning-models-keras/\n",
        "- https://keras.io/optimizers/"
      ]
    },
    {
      "cell_type": "code",
      "metadata": {
        "id": "Q2IpQKpyROn1",
        "colab_type": "code",
        "outputId": "c240681f-2fda-4218-d38a-b4703b5b89b3",
        "colab": {}
      },
      "source": [
        "model_NN3 = Sequential(name='Neural_Network_SeLU')\n",
        "\n",
        "model_NN3.add(Dense(units=125, activation='selu', kernel_initializer='lecun_normal', input_shape=(X_train.shape[1],)))\n",
        "model_NN3.add(Dense(150, activation='selu', kernel_initializer='lecun_normal'))\n",
        "model_NN3.add(AlphaDropout(0.25))\n",
        "model_NN3.add(Dense(175, activation='selu', kernel_initializer='lecun_normal'))\n",
        "model_NN3.add(Dense(250, activation='selu', kernel_initializer='lecun_normal'))\n",
        "model_NN3.add(Dense(350, activation='selu', kernel_initializer='lecun_normal'))\n",
        "model_NN3.add(AlphaDropout(0.3))\n",
        "model_NN3.add(Dense(450, activation='selu', kernel_initializer='lecun_normal'))\n",
        "model_NN3.add(Dense(550, activation='selu', kernel_initializer='lecun_normal'))\n",
        "model_NN3.add(Dense(650, activation='selu', kernel_initializer='lecun_normal'))\n",
        "model_NN3.add(AlphaDropout(0.38))\n",
        "model_NN3.add(Dense(750, activation='selu', kernel_initializer='lecun_normal'))\n",
        "# model_NN3.add(Activation('selu'))\n",
        "model_NN3.add(Dense(n_clases, activation='softmax'))\n",
        "\n",
        "# sgd = SGD(learning_rate=0.1, momentum=0.9, nesterov=True, decay=1e-2/epochs)\n",
        "adam = Adam(learning_rate=0.01, decay=1e-2/10) #decay --> decaimiento del learningRate\n",
        "\n",
        "model_NN3.compile(loss='sparse_categorical_crossentropy',\n",
        "                 optimizer='adam', # Adadelta\n",
        "                 metrics=['accuracy']) # sparse_categorical_accuracy\n",
        "                 \n",
        "model_NN3.summary()"
      ],
      "execution_count": 0,
      "outputs": [
        {
          "output_type": "stream",
          "text": [
            "Model: \"Neural_Network_SeLU\"\n",
            "_________________________________________________________________\n",
            "Layer (type)                 Output Shape              Param #   \n",
            "=================================================================\n",
            "dense_72 (Dense)             (None, 125)               12625     \n",
            "_________________________________________________________________\n",
            "dense_73 (Dense)             (None, 150)               18900     \n",
            "_________________________________________________________________\n",
            "alpha_dropout_3 (AlphaDropou (None, 150)               0         \n",
            "_________________________________________________________________\n",
            "dense_74 (Dense)             (None, 175)               26425     \n",
            "_________________________________________________________________\n",
            "dense_75 (Dense)             (None, 250)               44000     \n",
            "_________________________________________________________________\n",
            "dense_76 (Dense)             (None, 350)               87850     \n",
            "_________________________________________________________________\n",
            "alpha_dropout_4 (AlphaDropou (None, 350)               0         \n",
            "_________________________________________________________________\n",
            "dense_77 (Dense)             (None, 450)               157950    \n",
            "_________________________________________________________________\n",
            "dense_78 (Dense)             (None, 550)               248050    \n",
            "_________________________________________________________________\n",
            "dense_79 (Dense)             (None, 650)               358150    \n",
            "_________________________________________________________________\n",
            "alpha_dropout_5 (AlphaDropou (None, 650)               0         \n",
            "_________________________________________________________________\n",
            "dense_80 (Dense)             (None, 750)               488250    \n",
            "_________________________________________________________________\n",
            "dense_81 (Dense)             (None, 1574)              1182074   \n",
            "=================================================================\n",
            "Total params: 2,624,274\n",
            "Trainable params: 2,624,274\n",
            "Non-trainable params: 0\n",
            "_________________________________________________________________\n"
          ],
          "name": "stdout"
        }
      ]
    },
    {
      "cell_type": "code",
      "metadata": {
        "id": "eaK1rHkAROn3",
        "colab_type": "code",
        "outputId": "938799ad-10d0-4b6e-b3a7-aeff410cdf13",
        "colab": {}
      },
      "source": [
        "kwargs = {'epochs': 15,\n",
        "          'batch_size': 6998,\n",
        "          'validation_split':0.125}\n",
        "\n",
        "history_3 = model_NN3.fit(X_train,\n",
        "                          Y_train,\n",
        "                          **kwargs)"
      ],
      "execution_count": 0,
      "outputs": [
        {
          "output_type": "stream",
          "text": [
            "Train on 6998300 samples, validate on 999758 samples\n",
            "Epoch 1/15\n",
            "6998300/6998300 [==============================] - 76s 11us/sample - loss: 1.9588 - accuracy: 0.5865 - val_loss: 1.6818 - val_accuracy: 0.6959\n",
            "Epoch 2/15\n",
            "6998300/6998300 [==============================] - 76s 11us/sample - loss: 1.7128 - accuracy: 0.6329 - val_loss: 1.6797 - val_accuracy: 0.7107\n",
            "Epoch 3/15\n",
            "6998300/6998300 [==============================] - 76s 11us/sample - loss: 1.6117 - accuracy: 0.6521 - val_loss: 1.6453 - val_accuracy: 0.7248\n",
            "Epoch 4/15\n",
            "6998300/6998300 [==============================] - 77s 11us/sample - loss: 1.5502 - accuracy: 0.6643 - val_loss: 1.5873 - val_accuracy: 0.7364\n",
            "Epoch 5/15\n",
            "6998300/6998300 [==============================] - 77s 11us/sample - loss: 1.5078 - accuracy: 0.6730 - val_loss: 1.7084 - val_accuracy: 0.7378\n",
            "Epoch 6/15\n",
            "6998300/6998300 [==============================] - 77s 11us/sample - loss: 1.4744 - accuracy: 0.6799 - val_loss: 1.7020 - val_accuracy: 0.7443\n",
            "Epoch 7/15\n",
            "6998300/6998300 [==============================] - 77s 11us/sample - loss: 1.4481 - accuracy: 0.6855 - val_loss: 1.7304 - val_accuracy: 0.7428\n",
            "Epoch 8/15\n",
            "6998300/6998300 [==============================] - 77s 11us/sample - loss: 1.4272 - accuracy: 0.6896 - val_loss: 1.7456 - val_accuracy: 0.7460\n",
            "Epoch 9/15\n",
            "6998300/6998300 [==============================] - 77s 11us/sample - loss: 1.4098 - accuracy: 0.6935 - val_loss: 1.7524 - val_accuracy: 0.7437\n",
            "Epoch 10/15\n",
            "6998300/6998300 [==============================] - 77s 11us/sample - loss: 1.3938 - accuracy: 0.6968 - val_loss: 1.8037 - val_accuracy: 0.7454\n",
            "Epoch 11/15\n",
            "6998300/6998300 [==============================] - 77s 11us/sample - loss: 1.3817 - accuracy: 0.6992 - val_loss: 1.7430 - val_accuracy: 0.7473\n",
            "Epoch 12/15\n",
            "6998300/6998300 [==============================] - 77s 11us/sample - loss: 1.3714 - accuracy: 0.7013 - val_loss: 1.7022 - val_accuracy: 0.7483\n",
            "Epoch 13/15\n",
            "6998300/6998300 [==============================] - 77s 11us/sample - loss: 1.3620 - accuracy: 0.7032 - val_loss: 1.7206 - val_accuracy: 0.7447\n",
            "Epoch 14/15\n",
            "6998300/6998300 [==============================] - 76s 11us/sample - loss: 1.3525 - accuracy: 0.7052 - val_loss: 1.7367 - val_accuracy: 0.7490\n",
            "Epoch 15/15\n",
            "6998300/6998300 [==============================] - 77s 11us/sample - loss: 1.3445 - accuracy: 0.7066 - val_loss: 1.7150 - val_accuracy: 0.7495\n"
          ],
          "name": "stdout"
        }
      ]
    },
    {
      "cell_type": "code",
      "metadata": {
        "id": "iSSMSPekROn6",
        "colab_type": "code",
        "outputId": "9b6611db-4388-4ad6-c72e-920d33a08def",
        "colab": {}
      },
      "source": [
        "lss3, acc3 = model_NN3.evaluate(X_test,\n",
        "                                Y_test,\n",
        "                                batch_size=kwargs['batch_size'])\n",
        "print('Test score:', lss3)\n",
        "print('Test accuracy:', acc3)"
      ],
      "execution_count": 0,
      "outputs": [
        {
          "output_type": "stream",
          "text": [
            "IOPub data rate exceeded.\n",
            "The notebook server will temporarily stop sending output\n",
            "to the client in order to avoid crashing it.\n",
            "To change this limit, set the config variable\n",
            "`--NotebookApp.iopub_data_rate_limit`.\n",
            "\n",
            "Current values:\n",
            "NotebookApp.iopub_data_rate_limit=1000000.0 (bytes/sec)\n",
            "NotebookApp.rate_limit_window=3.0 (secs)\n",
            "\n"
          ],
          "name": "stderr"
        },
        {
          "output_type": "stream",
          "text": [
            "Test score: 1.7173422093245985\n",
            "Test accuracy: 0.74911064\n"
          ],
          "name": "stdout"
        }
      ]
    },
    {
      "cell_type": "code",
      "metadata": {
        "id": "Q4-mOTkyROn8",
        "colab_type": "code",
        "outputId": "2fa54646-922e-475e-cb5b-a3416aad3277",
        "colab": {}
      },
      "source": [
        "plt.title('Train Loss')\n",
        "plt.plot(history_1.history['loss'], label='train ReLu')\n",
        "plt.plot(history_2.history['loss'], label='train Leaky_ReLu')\n",
        "plt.plot(history_3.history['loss'], label='train SeLu')\n",
        "plt.legend()\n",
        "plt.savefig('Train Loss_comparison_of_networks.png')"
      ],
      "execution_count": 0,
      "outputs": [
        {
          "output_type": "display_data",
          "data": {
            "image/png": "[encoded data removed]",
            "text/plain": [
              "<Figure size 432x288 with 1 Axes>"
            ]
          },
          "metadata": {
            "tags": [],
            "needs_background": "light"
          }
        }
      ]
    },
    {
      "cell_type": "code",
      "metadata": {
        "id": "hMNyYXstROn-",
        "colab_type": "code",
        "outputId": "76b05d42-0895-4b28-b702-63eb6d6c8373",
        "colab": {}
      },
      "source": [
        "plt.title('Validation Loss')\n",
        "plt.plot(history_1.history['val_loss'], label='val ReLu')\n",
        "plt.plot(history_2.history['val_loss'], label='val Leaky_ReLu')\n",
        "plt.plot(history_3.history['val_loss'], label='val SeLu')\n",
        "plt.legend()\n",
        "plt.savefig('Validation Loss_comparison_of_networks.png')"
      ],
      "execution_count": 0,
      "outputs": [
        {
          "output_type": "display_data",
          "data": {
            "image/png": "[encoded data removed]",
            "text/plain": [
              "<Figure size 432x288 with 1 Axes>"
            ]
          },
          "metadata": {
            "tags": [],
            "needs_background": "light"
          }
        }
      ]
    },
    {
      "cell_type": "code",
      "metadata": {
        "id": "bbVPkFx0ROoA",
        "colab_type": "code",
        "outputId": "95abe7f2-fbb0-409c-c477-40d52636f00f",
        "colab": {}
      },
      "source": [
        "plt.title('Validation accuracy')\n",
        "plt.plot(history_1.history['val_accuracy'], label='val ReLu')\n",
        "plt.plot(history_2.history['val_accuracy'], label='val Leaky_ReLu')\n",
        "plt.plot(history_3.history['val_accuracy'], label='val SeLu')\n",
        "plt.legend()\n",
        "plt.show();\n",
        "plt.savefig('Validation accuracy_comparison_of_networks.jpg')"
      ],
      "execution_count": 0,
      "outputs": [
        {
          "output_type": "display_data",
          "data": {
            "image/png": "[encoded data removed]",
            "text/plain": [
              "<Figure size 432x288 with 1 Axes>"
            ]
          },
          "metadata": {
            "tags": [],
            "needs_background": "light"
          }
        },
        {
          "output_type": "display_data",
          "data": {
            "text/plain": [
              "<Figure size 432x288 with 0 Axes>"
            ]
          },
          "metadata": {
            "tags": []
          }
        }
      ]
    },
    {
      "cell_type": "code",
      "metadata": {
        "id": "ZEYaTW1MROoC",
        "colab_type": "code",
        "outputId": "5d080695-d63f-4347-8f87-458e1f73d139",
        "colab": {}
      },
      "source": [
        "plt.title('Train accuracy')\n",
        "plt.plot(history_1.history['accuracy'], label='train ReLu')\n",
        "plt.plot(history_2.history['accuracy'], label='train Leaky_ReLu')\n",
        "plt.plot(history_3.history['accuracy'], label='train SeLu')\n",
        "plt.legend()\n",
        "plt.show();\n",
        "plt.savefig('Train accuracy_comparison_of_networks.jpg')"
      ],
      "execution_count": 0,
      "outputs": [
        {
          "output_type": "display_data",
          "data": {
            "image/png": "[encoded data removed]",
            "text/plain": [
              "<Figure size 432x288 with 1 Axes>"
            ]
          },
          "metadata": {
            "tags": [],
            "needs_background": "light"
          }
        },
        {
          "output_type": "display_data",
          "data": {
            "text/plain": [
              "<Figure size 432x288 with 0 Axes>"
            ]
          },
          "metadata": {
            "tags": []
          }
        }
      ]
    },
    {
      "cell_type": "markdown",
      "metadata": {
        "id": "EvYyNdo0ROoD",
        "colab_type": "text"
      },
      "source": [
        "##### Guardar/Cargar modelo ANN\n",
        "<p>Guardar el modelo entrenado</p>"
      ]
    },
    {
      "cell_type": "code",
      "metadata": {
        "id": "Ly7T1aCkROoE",
        "colab_type": "code",
        "colab": {}
      },
      "source": [
        "model_NN.save('model_NN_MeLi_vRELU.h5')  # creates a HDF5 file 'my_model.h5'\n",
        "model_NN2.save('model_NN_MeLi_vLeakyRELU.h5')  # creates a HDF5 file 'my_model.h5'\n",
        "model_NN3.save('model_NN_MeLi_SELU.h5')  # creates a HDF5 file 'my_model.h5'"
      ],
      "execution_count": 0,
      "outputs": []
    },
    {
      "cell_type": "markdown",
      "metadata": {
        "id": "uqKlwSp5ROoF",
        "colab_type": "text"
      },
      "source": [
        "<p>Cargar un modelo pre-entrenado</p>"
      ]
    },
    {
      "cell_type": "code",
      "metadata": {
        "id": "BWIN3OQSROoG",
        "colab_type": "code",
        "colab": {}
      },
      "source": [
        "# model_NN = load_model('model_NN_MeLi_vLeakyRELU.h5') # OR 'model_NN_MeLi_vRELU.h5' OR 'model_NN_MeLi_SELU.h5'"
      ],
      "execution_count": 0,
      "outputs": []
    },
    {
      "cell_type": "markdown",
      "metadata": {
        "colab_type": "text",
        "id": "bCRRPgsMFncQ"
      },
      "source": [
        "### Predict\n",
        "\n",
        "https://www.tensorflow.org/tutorials/keras/classification"
      ]
    },
    {
      "cell_type": "code",
      "metadata": {
        "colab_type": "code",
        "id": "txW6hdwZZpOZ",
        "colab": {}
      },
      "source": [
        "def predictor(model,unknown):\n",
        "    '''\n",
        "    A = [cleaner(u) for u in unknown]\n",
        "    B = [a.split() for a in A]\n",
        "    C = [(b,0) for b in B]\n",
        "    D = [modelSIF.infer([c]) for c in C]\n",
        "    '''\n",
        "    unknown_vectors = [modelSIF.infer([c]) for c in [(b,0) for b in [a.split() for a in [cleaner(u) for u in unknown]]]]\n",
        "\n",
        "    predicciones = list()\n",
        "    for u_vect in range(len(unknown_vectors)):\n",
        "        pred = model.predict(unknown_vectors[u_vect])\n",
        "        predicciones.append(set(df['category'][df['classes']==np.argmax(pred)]))\n",
        "\n",
        "    return pd.DataFrame(np.array([unknown,predicciones]).T,columns = ['Titulo desconocido','Clase predecida '+ str(model.name)])"
      ],
      "execution_count": 0,
      "outputs": []
    },
    {
      "cell_type": "code",
      "metadata": {
        "colab_type": "code",
        "id": "zKixuGi8Gwan",
        "colab": {}
      },
      "source": [
        "unknown = ['Taladro Impacto Velocidad Variable Y Reversible Stanprof',\n",
        "           'iPhone Xr 64gb 12mp/7mp 3gb Ram 4g Sellado',\n",
        "           'Zapato Croydon Slimer Cr Negro Para Hombre',\n",
        "           'Impresora Multifuncional Epson Ecotank L3150',\n",
        "           'Celular Huawei P30 Lite 128gb 4gb Cámara Triple + Vidrio 5d',\n",
        "           'Waflera Oster Ckstwf2000-1am Belgian Waffle Maker',\n",
        "           'Celular Libre Xiaomi Mi 9t Versión Global 64 Gb 6 Gb Ram',\n",
        "           'Guitarra Electrica Ibanez Rgew521fm-ntf',\n",
        "           'Cubo Rubik Rompecabezas Cubo Rubik Mágico Carbono 3x3',\n",
        "           'Cámara Semi Profesional Sony De 20.4mp Y Hi-zoom-dsc-hx400v',\n",
        "           'schwarzkopf fibre force mascarilla fortificante',\n",
        "           'nuevo contador billetes para detecta falsos']"
      ],
      "execution_count": 0,
      "outputs": []
    },
    {
      "cell_type": "code",
      "metadata": {
        "id": "uVj3-K_oROoM",
        "colab_type": "code",
        "outputId": "c80e8001-1595-4c89-c3c9-eab07233c3d8",
        "colab": {}
      },
      "source": [
        "df_prediction = pd.DataFrame(np.array(unknown),columns = ['Titulo desconocido'])\n",
        "df_prediction"
      ],
      "execution_count": 0,
      "outputs": [
        {
          "output_type": "execute_result",
          "data": {
            "text/html": [
              "<div>\n",
              "<style scoped>\n",
              "    .dataframe tbody tr th:only-of-type {\n",
              "        vertical-align: middle;\n",
              "    }\n",
              "\n",
              "    .dataframe tbody tr th {\n",
              "        vertical-align: top;\n",
              "    }\n",
              "\n",
              "    .dataframe thead th {\n",
              "        text-align: right;\n",
              "    }\n",
              "</style>\n",
              "<table border=\"1\" class=\"dataframe\">\n",
              "  <thead>\n",
              "    <tr style=\"text-align: right;\">\n",
              "      <th></th>\n",
              "      <th>Titulo desconocido</th>\n",
              "    </tr>\n",
              "  </thead>\n",
              "  <tbody>\n",
              "    <tr>\n",
              "      <th>0</th>\n",
              "      <td>Taladro Impacto Velocidad Variable Y Reversibl...</td>\n",
              "    </tr>\n",
              "    <tr>\n",
              "      <th>1</th>\n",
              "      <td>iPhone Xr 64gb 12mp/7mp 3gb Ram 4g Sellado</td>\n",
              "    </tr>\n",
              "    <tr>\n",
              "      <th>2</th>\n",
              "      <td>Zapato Croydon Slimer Cr Negro Para Hombre</td>\n",
              "    </tr>\n",
              "    <tr>\n",
              "      <th>3</th>\n",
              "      <td>Impresora Multifuncional Epson Ecotank L3150</td>\n",
              "    </tr>\n",
              "    <tr>\n",
              "      <th>4</th>\n",
              "      <td>Celular Huawei P30 Lite 128gb 4gb Cámara Tripl...</td>\n",
              "    </tr>\n",
              "    <tr>\n",
              "      <th>5</th>\n",
              "      <td>Waflera Oster Ckstwf2000-1am Belgian Waffle Maker</td>\n",
              "    </tr>\n",
              "    <tr>\n",
              "      <th>6</th>\n",
              "      <td>Celular Libre Xiaomi Mi 9t Versión Global 64 G...</td>\n",
              "    </tr>\n",
              "    <tr>\n",
              "      <th>7</th>\n",
              "      <td>Guitarra Electrica Ibanez Rgew521fm-ntf</td>\n",
              "    </tr>\n",
              "    <tr>\n",
              "      <th>8</th>\n",
              "      <td>Cubo Rubik Rompecabezas Cubo Rubik Mágico Carb...</td>\n",
              "    </tr>\n",
              "    <tr>\n",
              "      <th>9</th>\n",
              "      <td>Cámara Semi Profesional Sony De 20.4mp Y Hi-zo...</td>\n",
              "    </tr>\n",
              "    <tr>\n",
              "      <th>10</th>\n",
              "      <td>schwarzkopf fibre force mascarilla fortificante</td>\n",
              "    </tr>\n",
              "    <tr>\n",
              "      <th>11</th>\n",
              "      <td>nuevo contador billetes para detecta falsos</td>\n",
              "    </tr>\n",
              "  </tbody>\n",
              "</table>\n",
              "</div>"
            ],
            "text/plain": [
              "                                   Titulo desconocido\n",
              "0   Taladro Impacto Velocidad Variable Y Reversibl...\n",
              "1          iPhone Xr 64gb 12mp/7mp 3gb Ram 4g Sellado\n",
              "2          Zapato Croydon Slimer Cr Negro Para Hombre\n",
              "3        Impresora Multifuncional Epson Ecotank L3150\n",
              "4   Celular Huawei P30 Lite 128gb 4gb Cámara Tripl...\n",
              "5   Waflera Oster Ckstwf2000-1am Belgian Waffle Maker\n",
              "6   Celular Libre Xiaomi Mi 9t Versión Global 64 G...\n",
              "7             Guitarra Electrica Ibanez Rgew521fm-ntf\n",
              "8   Cubo Rubik Rompecabezas Cubo Rubik Mágico Carb...\n",
              "9   Cámara Semi Profesional Sony De 20.4mp Y Hi-zo...\n",
              "10    schwarzkopf fibre force mascarilla fortificante\n",
              "11        nuevo contador billetes para detecta falsos"
            ]
          },
          "metadata": {
            "tags": []
          },
          "execution_count": 51
        }
      ]
    },
    {
      "cell_type": "code",
      "metadata": {
        "id": "o57Dz-6WROoO",
        "colab_type": "code",
        "outputId": "06c86aa3-676b-48a5-8709-8453c28e65e6",
        "colab": {}
      },
      "source": [
        "df_NN1 = predictor(model_NN,unknown)\n",
        "df_NN1['Clase predecida Neural_Network']"
      ],
      "execution_count": 0,
      "outputs": [
        {
          "output_type": "execute_result",
          "data": {
            "text/plain": [
              "0                   {ELECTRIC_DRILLS}\n",
              "1                        {CELLPHONES}\n",
              "2               {LOAFERS_AND_OXFORDS}\n",
              "3                          {PRINTERS}\n",
              "4     {CELLPHONE_REPLACEMENT_CAMERAS}\n",
              "5                   {SANDWICH_MAKERS}\n",
              "6                        {CELLPHONES}\n",
              "7                  {ELECTRIC_GUITARS}\n",
              "8                      {PUZZLE_CUBES}\n",
              "9                           {CAMERAS}\n",
              "10                       {FACE_MASKS}\n",
              "11                    {BILL_COUNTERS}\n",
              "Name: Clase predecida Neural_Network, dtype: object"
            ]
          },
          "metadata": {
            "tags": []
          },
          "execution_count": 58
        }
      ]
    },
    {
      "cell_type": "code",
      "metadata": {
        "id": "ksjIgzGiROoQ",
        "colab_type": "code",
        "outputId": "0ea9f3f4-9e8f-4f4b-8996-1b8c51ef6a47",
        "colab": {}
      },
      "source": [
        "df_NN2 = predictor(model_NN2,unknown)\n",
        "df_NN2['Clase predecida Neural_Network_LeakyReLU']"
      ],
      "execution_count": 0,
      "outputs": [
        {
          "output_type": "execute_result",
          "data": {
            "text/plain": [
              "0         {ELECTRIC_DRILLS}\n",
              "1              {CELLPHONES}\n",
              "2     {LOAFERS_AND_OXFORDS}\n",
              "3                {PRINTERS}\n",
              "4              {CELLPHONES}\n",
              "5           {WAFFLE_MAKERS}\n",
              "6              {CELLPHONES}\n",
              "7        {ELECTRIC_GUITARS}\n",
              "8            {PUZZLE_CUBES}\n",
              "9                 {CAMERAS}\n",
              "10             {FACE_MASKS}\n",
              "11          {BILL_COUNTERS}\n",
              "Name: Clase predecida Neural_Network_LeakyReLU, dtype: object"
            ]
          },
          "metadata": {
            "tags": []
          },
          "execution_count": 60
        }
      ]
    },
    {
      "cell_type": "code",
      "metadata": {
        "id": "mC0hc682ROoR",
        "colab_type": "code",
        "outputId": "5100de77-242d-4746-927f-97e92432eff9",
        "colab": {}
      },
      "source": [
        "df_NN3 = predictor(model_NN3,unknown)\n",
        "df_NN3['Clase predecida Neural_Network_SeLU']"
      ],
      "execution_count": 0,
      "outputs": [
        {
          "output_type": "execute_result",
          "data": {
            "text/plain": [
              "0                                {ELECTRIC_DRILLS}\n",
              "1                                     {CELLPHONES}\n",
              "2                            {LOAFERS_AND_OXFORDS}\n",
              "3                                       {PRINTERS}\n",
              "4     {CELLPHONE_TABLET_AND_GPS_SCREEN_PROTECTORS}\n",
              "5                                {SANDWICH_MAKERS}\n",
              "6                                     {CELLPHONES}\n",
              "7                               {ELECTRIC_GUITARS}\n",
              "8                                   {PUZZLE_CUBES}\n",
              "9                                        {CAMERAS}\n",
              "10                                    {FACE_MASKS}\n",
              "11                                 {BILL_COUNTERS}\n",
              "Name: Clase predecida Neural_Network_SeLU, dtype: object"
            ]
          },
          "metadata": {
            "tags": []
          },
          "execution_count": 62
        }
      ]
    },
    {
      "cell_type": "code",
      "metadata": {
        "id": "A_dGwDB2ROoT",
        "colab_type": "code",
        "outputId": "1cbdd687-fb19-4808-f17a-b5d8c75ecad4",
        "colab": {}
      },
      "source": [
        "df_prediction = pd.merge(df_prediction, df_NN1, on='Titulo desconocido')\n",
        "df_prediction = pd.merge(df_prediction, df_NN2, on='Titulo desconocido')\n",
        "df_prediction = pd.merge(df_prediction, df_NN3, on='Titulo desconocido')\n",
        "df_prediction"
      ],
      "execution_count": 0,
      "outputs": [
        {
          "output_type": "execute_result",
          "data": {
            "text/html": [
              "<div>\n",
              "<style scoped>\n",
              "    .dataframe tbody tr th:only-of-type {\n",
              "        vertical-align: middle;\n",
              "    }\n",
              "\n",
              "    .dataframe tbody tr th {\n",
              "        vertical-align: top;\n",
              "    }\n",
              "\n",
              "    .dataframe thead th {\n",
              "        text-align: right;\n",
              "    }\n",
              "</style>\n",
              "<table border=\"1\" class=\"dataframe\">\n",
              "  <thead>\n",
              "    <tr style=\"text-align: right;\">\n",
              "      <th></th>\n",
              "      <th>Titulo desconocido</th>\n",
              "      <th>Clase predecida Neural_Network</th>\n",
              "      <th>Clase predecida Neural_Network_LeakyReLU</th>\n",
              "      <th>Clase predecida Neural_Network_SeLU</th>\n",
              "    </tr>\n",
              "  </thead>\n",
              "  <tbody>\n",
              "    <tr>\n",
              "      <th>0</th>\n",
              "      <td>Taladro Impacto Velocidad Variable Y Reversibl...</td>\n",
              "      <td>{ELECTRIC_DRILLS}</td>\n",
              "      <td>{ELECTRIC_DRILLS}</td>\n",
              "      <td>{ELECTRIC_DRILLS}</td>\n",
              "    </tr>\n",
              "    <tr>\n",
              "      <th>1</th>\n",
              "      <td>iPhone Xr 64gb 12mp/7mp 3gb Ram 4g Sellado</td>\n",
              "      <td>{CELLPHONES}</td>\n",
              "      <td>{CELLPHONES}</td>\n",
              "      <td>{CELLPHONES}</td>\n",
              "    </tr>\n",
              "    <tr>\n",
              "      <th>2</th>\n",
              "      <td>Zapato Croydon Slimer Cr Negro Para Hombre</td>\n",
              "      <td>{LOAFERS_AND_OXFORDS}</td>\n",
              "      <td>{LOAFERS_AND_OXFORDS}</td>\n",
              "      <td>{LOAFERS_AND_OXFORDS}</td>\n",
              "    </tr>\n",
              "    <tr>\n",
              "      <th>3</th>\n",
              "      <td>Impresora Multifuncional Epson Ecotank L3150</td>\n",
              "      <td>{PRINTERS}</td>\n",
              "      <td>{PRINTERS}</td>\n",
              "      <td>{PRINTERS}</td>\n",
              "    </tr>\n",
              "    <tr>\n",
              "      <th>4</th>\n",
              "      <td>Celular Huawei P30 Lite 128gb 4gb Cámara Tripl...</td>\n",
              "      <td>{CELLPHONE_REPLACEMENT_CAMERAS}</td>\n",
              "      <td>{CELLPHONES}</td>\n",
              "      <td>{CELLPHONE_TABLET_AND_GPS_SCREEN_PROTECTORS}</td>\n",
              "    </tr>\n",
              "    <tr>\n",
              "      <th>5</th>\n",
              "      <td>Waflera Oster Ckstwf2000-1am Belgian Waffle Maker</td>\n",
              "      <td>{SANDWICH_MAKERS}</td>\n",
              "      <td>{WAFFLE_MAKERS}</td>\n",
              "      <td>{SANDWICH_MAKERS}</td>\n",
              "    </tr>\n",
              "    <tr>\n",
              "      <th>6</th>\n",
              "      <td>Celular Libre Xiaomi Mi 9t Versión Global 64 G...</td>\n",
              "      <td>{CELLPHONES}</td>\n",
              "      <td>{CELLPHONES}</td>\n",
              "      <td>{CELLPHONES}</td>\n",
              "    </tr>\n",
              "    <tr>\n",
              "      <th>7</th>\n",
              "      <td>Guitarra Electrica Ibanez Rgew521fm-ntf</td>\n",
              "      <td>{ELECTRIC_GUITARS}</td>\n",
              "      <td>{ELECTRIC_GUITARS}</td>\n",
              "      <td>{ELECTRIC_GUITARS}</td>\n",
              "    </tr>\n",
              "    <tr>\n",
              "      <th>8</th>\n",
              "      <td>Cubo Rubik Rompecabezas Cubo Rubik Mágico Carb...</td>\n",
              "      <td>{PUZZLE_CUBES}</td>\n",
              "      <td>{PUZZLE_CUBES}</td>\n",
              "      <td>{PUZZLE_CUBES}</td>\n",
              "    </tr>\n",
              "    <tr>\n",
              "      <th>9</th>\n",
              "      <td>Cámara Semi Profesional Sony De 20.4mp Y Hi-zo...</td>\n",
              "      <td>{CAMERAS}</td>\n",
              "      <td>{CAMERAS}</td>\n",
              "      <td>{CAMERAS}</td>\n",
              "    </tr>\n",
              "    <tr>\n",
              "      <th>10</th>\n",
              "      <td>schwarzkopf fibre force mascarilla fortificante</td>\n",
              "      <td>{FACE_MASKS}</td>\n",
              "      <td>{FACE_MASKS}</td>\n",
              "      <td>{FACE_MASKS}</td>\n",
              "    </tr>\n",
              "    <tr>\n",
              "      <th>11</th>\n",
              "      <td>nuevo contador billetes para detecta falsos</td>\n",
              "      <td>{BILL_COUNTERS}</td>\n",
              "      <td>{BILL_COUNTERS}</td>\n",
              "      <td>{BILL_COUNTERS}</td>\n",
              "    </tr>\n",
              "  </tbody>\n",
              "</table>\n",
              "</div>"
            ],
            "text/plain": [
              "                                   Titulo desconocido  \\\n",
              "0   Taladro Impacto Velocidad Variable Y Reversibl...   \n",
              "1          iPhone Xr 64gb 12mp/7mp 3gb Ram 4g Sellado   \n",
              "2          Zapato Croydon Slimer Cr Negro Para Hombre   \n",
              "3        Impresora Multifuncional Epson Ecotank L3150   \n",
              "4   Celular Huawei P30 Lite 128gb 4gb Cámara Tripl...   \n",
              "5   Waflera Oster Ckstwf2000-1am Belgian Waffle Maker   \n",
              "6   Celular Libre Xiaomi Mi 9t Versión Global 64 G...   \n",
              "7             Guitarra Electrica Ibanez Rgew521fm-ntf   \n",
              "8   Cubo Rubik Rompecabezas Cubo Rubik Mágico Carb...   \n",
              "9   Cámara Semi Profesional Sony De 20.4mp Y Hi-zo...   \n",
              "10    schwarzkopf fibre force mascarilla fortificante   \n",
              "11        nuevo contador billetes para detecta falsos   \n",
              "\n",
              "     Clase predecida Neural_Network Clase predecida Neural_Network_LeakyReLU  \\\n",
              "0                 {ELECTRIC_DRILLS}                        {ELECTRIC_DRILLS}   \n",
              "1                      {CELLPHONES}                             {CELLPHONES}   \n",
              "2             {LOAFERS_AND_OXFORDS}                    {LOAFERS_AND_OXFORDS}   \n",
              "3                        {PRINTERS}                               {PRINTERS}   \n",
              "4   {CELLPHONE_REPLACEMENT_CAMERAS}                             {CELLPHONES}   \n",
              "5                 {SANDWICH_MAKERS}                          {WAFFLE_MAKERS}   \n",
              "6                      {CELLPHONES}                             {CELLPHONES}   \n",
              "7                {ELECTRIC_GUITARS}                       {ELECTRIC_GUITARS}   \n",
              "8                    {PUZZLE_CUBES}                           {PUZZLE_CUBES}   \n",
              "9                         {CAMERAS}                                {CAMERAS}   \n",
              "10                     {FACE_MASKS}                             {FACE_MASKS}   \n",
              "11                  {BILL_COUNTERS}                          {BILL_COUNTERS}   \n",
              "\n",
              "             Clase predecida Neural_Network_SeLU  \n",
              "0                              {ELECTRIC_DRILLS}  \n",
              "1                                   {CELLPHONES}  \n",
              "2                          {LOAFERS_AND_OXFORDS}  \n",
              "3                                     {PRINTERS}  \n",
              "4   {CELLPHONE_TABLET_AND_GPS_SCREEN_PROTECTORS}  \n",
              "5                              {SANDWICH_MAKERS}  \n",
              "6                                   {CELLPHONES}  \n",
              "7                             {ELECTRIC_GUITARS}  \n",
              "8                                 {PUZZLE_CUBES}  \n",
              "9                                      {CAMERAS}  \n",
              "10                                  {FACE_MASKS}  \n",
              "11                               {BILL_COUNTERS}  "
            ]
          },
          "metadata": {
            "tags": []
          },
          "execution_count": 64
        }
      ]
    },
    {
      "cell_type": "code",
      "metadata": {
        "id": "iNDPX-RIROoU",
        "colab_type": "code",
        "outputId": "a8579937-8cc6-4685-e692-036e6c2deb98",
        "colab": {}
      },
      "source": [
        "df_prediction.columns = ['Titulo desconocido','Neural_Network_ReLU','Neural_Network_LeakyReLU','Neural_Network_SeLU']\n",
        "df_prediction"
      ],
      "execution_count": 0,
      "outputs": [
        {
          "output_type": "execute_result",
          "data": {
            "text/html": [
              "<div>\n",
              "<style scoped>\n",
              "    .dataframe tbody tr th:only-of-type {\n",
              "        vertical-align: middle;\n",
              "    }\n",
              "\n",
              "    .dataframe tbody tr th {\n",
              "        vertical-align: top;\n",
              "    }\n",
              "\n",
              "    .dataframe thead th {\n",
              "        text-align: right;\n",
              "    }\n",
              "</style>\n",
              "<table border=\"1\" class=\"dataframe\">\n",
              "  <thead>\n",
              "    <tr style=\"text-align: right;\">\n",
              "      <th></th>\n",
              "      <th>Titulo desconocido</th>\n",
              "      <th>Neural_Network_ReLU</th>\n",
              "      <th>Neural_Network_LeakyReLU</th>\n",
              "      <th>Neural_Network_SeLU</th>\n",
              "    </tr>\n",
              "  </thead>\n",
              "  <tbody>\n",
              "    <tr>\n",
              "      <th>0</th>\n",
              "      <td>Taladro Impacto Velocidad Variable Y Reversibl...</td>\n",
              "      <td>{ELECTRIC_DRILLS}</td>\n",
              "      <td>{ELECTRIC_DRILLS}</td>\n",
              "      <td>{ELECTRIC_DRILLS}</td>\n",
              "    </tr>\n",
              "    <tr>\n",
              "      <th>1</th>\n",
              "      <td>iPhone Xr 64gb 12mp/7mp 3gb Ram 4g Sellado</td>\n",
              "      <td>{CELLPHONES}</td>\n",
              "      <td>{CELLPHONES}</td>\n",
              "      <td>{CELLPHONES}</td>\n",
              "    </tr>\n",
              "    <tr>\n",
              "      <th>2</th>\n",
              "      <td>Zapato Croydon Slimer Cr Negro Para Hombre</td>\n",
              "      <td>{LOAFERS_AND_OXFORDS}</td>\n",
              "      <td>{LOAFERS_AND_OXFORDS}</td>\n",
              "      <td>{LOAFERS_AND_OXFORDS}</td>\n",
              "    </tr>\n",
              "    <tr>\n",
              "      <th>3</th>\n",
              "      <td>Impresora Multifuncional Epson Ecotank L3150</td>\n",
              "      <td>{PRINTERS}</td>\n",
              "      <td>{PRINTERS}</td>\n",
              "      <td>{PRINTERS}</td>\n",
              "    </tr>\n",
              "    <tr>\n",
              "      <th>4</th>\n",
              "      <td>Celular Huawei P30 Lite 128gb 4gb Cámara Tripl...</td>\n",
              "      <td>{CELLPHONE_REPLACEMENT_CAMERAS}</td>\n",
              "      <td>{CELLPHONES}</td>\n",
              "      <td>{CELLPHONE_TABLET_AND_GPS_SCREEN_PROTECTORS}</td>\n",
              "    </tr>\n",
              "    <tr>\n",
              "      <th>5</th>\n",
              "      <td>Waflera Oster Ckstwf2000-1am Belgian Waffle Maker</td>\n",
              "      <td>{SANDWICH_MAKERS}</td>\n",
              "      <td>{WAFFLE_MAKERS}</td>\n",
              "      <td>{SANDWICH_MAKERS}</td>\n",
              "    </tr>\n",
              "    <tr>\n",
              "      <th>6</th>\n",
              "      <td>Celular Libre Xiaomi Mi 9t Versión Global 64 G...</td>\n",
              "      <td>{CELLPHONES}</td>\n",
              "      <td>{CELLPHONES}</td>\n",
              "      <td>{CELLPHONES}</td>\n",
              "    </tr>\n",
              "    <tr>\n",
              "      <th>7</th>\n",
              "      <td>Guitarra Electrica Ibanez Rgew521fm-ntf</td>\n",
              "      <td>{ELECTRIC_GUITARS}</td>\n",
              "      <td>{ELECTRIC_GUITARS}</td>\n",
              "      <td>{ELECTRIC_GUITARS}</td>\n",
              "    </tr>\n",
              "    <tr>\n",
              "      <th>8</th>\n",
              "      <td>Cubo Rubik Rompecabezas Cubo Rubik Mágico Carb...</td>\n",
              "      <td>{PUZZLE_CUBES}</td>\n",
              "      <td>{PUZZLE_CUBES}</td>\n",
              "      <td>{PUZZLE_CUBES}</td>\n",
              "    </tr>\n",
              "    <tr>\n",
              "      <th>9</th>\n",
              "      <td>Cámara Semi Profesional Sony De 20.4mp Y Hi-zo...</td>\n",
              "      <td>{CAMERAS}</td>\n",
              "      <td>{CAMERAS}</td>\n",
              "      <td>{CAMERAS}</td>\n",
              "    </tr>\n",
              "    <tr>\n",
              "      <th>10</th>\n",
              "      <td>schwarzkopf fibre force mascarilla fortificante</td>\n",
              "      <td>{FACE_MASKS}</td>\n",
              "      <td>{FACE_MASKS}</td>\n",
              "      <td>{FACE_MASKS}</td>\n",
              "    </tr>\n",
              "    <tr>\n",
              "      <th>11</th>\n",
              "      <td>nuevo contador billetes para detecta falsos</td>\n",
              "      <td>{BILL_COUNTERS}</td>\n",
              "      <td>{BILL_COUNTERS}</td>\n",
              "      <td>{BILL_COUNTERS}</td>\n",
              "    </tr>\n",
              "  </tbody>\n",
              "</table>\n",
              "</div>"
            ],
            "text/plain": [
              "                                   Titulo desconocido  \\\n",
              "0   Taladro Impacto Velocidad Variable Y Reversibl...   \n",
              "1          iPhone Xr 64gb 12mp/7mp 3gb Ram 4g Sellado   \n",
              "2          Zapato Croydon Slimer Cr Negro Para Hombre   \n",
              "3        Impresora Multifuncional Epson Ecotank L3150   \n",
              "4   Celular Huawei P30 Lite 128gb 4gb Cámara Tripl...   \n",
              "5   Waflera Oster Ckstwf2000-1am Belgian Waffle Maker   \n",
              "6   Celular Libre Xiaomi Mi 9t Versión Global 64 G...   \n",
              "7             Guitarra Electrica Ibanez Rgew521fm-ntf   \n",
              "8   Cubo Rubik Rompecabezas Cubo Rubik Mágico Carb...   \n",
              "9   Cámara Semi Profesional Sony De 20.4mp Y Hi-zo...   \n",
              "10    schwarzkopf fibre force mascarilla fortificante   \n",
              "11        nuevo contador billetes para detecta falsos   \n",
              "\n",
              "                Neural_Network_ReLU Neural_Network_LeakyReLU  \\\n",
              "0                 {ELECTRIC_DRILLS}        {ELECTRIC_DRILLS}   \n",
              "1                      {CELLPHONES}             {CELLPHONES}   \n",
              "2             {LOAFERS_AND_OXFORDS}    {LOAFERS_AND_OXFORDS}   \n",
              "3                        {PRINTERS}               {PRINTERS}   \n",
              "4   {CELLPHONE_REPLACEMENT_CAMERAS}             {CELLPHONES}   \n",
              "5                 {SANDWICH_MAKERS}          {WAFFLE_MAKERS}   \n",
              "6                      {CELLPHONES}             {CELLPHONES}   \n",
              "7                {ELECTRIC_GUITARS}       {ELECTRIC_GUITARS}   \n",
              "8                    {PUZZLE_CUBES}           {PUZZLE_CUBES}   \n",
              "9                         {CAMERAS}                {CAMERAS}   \n",
              "10                     {FACE_MASKS}             {FACE_MASKS}   \n",
              "11                  {BILL_COUNTERS}          {BILL_COUNTERS}   \n",
              "\n",
              "                             Neural_Network_SeLU  \n",
              "0                              {ELECTRIC_DRILLS}  \n",
              "1                                   {CELLPHONES}  \n",
              "2                          {LOAFERS_AND_OXFORDS}  \n",
              "3                                     {PRINTERS}  \n",
              "4   {CELLPHONE_TABLET_AND_GPS_SCREEN_PROTECTORS}  \n",
              "5                              {SANDWICH_MAKERS}  \n",
              "6                                   {CELLPHONES}  \n",
              "7                             {ELECTRIC_GUITARS}  \n",
              "8                                 {PUZZLE_CUBES}  \n",
              "9                                      {CAMERAS}  \n",
              "10                                  {FACE_MASKS}  \n",
              "11                               {BILL_COUNTERS}  "
            ]
          },
          "metadata": {
            "tags": []
          },
          "execution_count": 66
        }
      ]
    },
    {
      "cell_type": "code",
      "metadata": {
        "id": "1_DzSa7MROoW",
        "colab_type": "code",
        "colab": {}
      },
      "source": [
        "# def create_custom_model(input_dim, output_dim, nodes, n=1, name='model'):\n",
        "#     def create_model():\n",
        "#         # Create model\n",
        "#         model = Sequential(name=name)\n",
        "#         for i in range(n):\n",
        "#             model.add(Dense(nodes, input_dim=input_dim, activation='relu'))\n",
        "#         model.add(Dropout(0.38))\n",
        "#         model.add(Dense(output_dim, activation='softmax'))\n",
        "\n",
        "#         # Compile model\n",
        "#         model.compile(loss='categorical_crossentropy', \n",
        "#                       optimizer='adam', \n",
        "#                       metrics=['accuracy'])\n",
        "#         return model\n",
        "#     return create_model\n",
        "\n",
        "# models = [create_custom_model(n_features, n_classes, nodes=10, n=i, name='model_{}'.format(i-1)) for i in range(2, 6)]\n",
        "\n",
        "# for create_model in models:\n",
        "#     create_model().summary()"
      ],
      "execution_count": 0,
      "outputs": []
    },
    {
      "cell_type": "markdown",
      "metadata": {
        "colab_type": "text",
        "id": "W7wtedsWKCu6"
      },
      "source": [
        "### LSTM\n",
        "\n",
        "*   https://towardsdatascience.com/multi-class-text-classification-with-lstm-1590bee1bd17\n",
        "*   https://machinelearningmastery.com/reshape-input-data-long-short-term-memory-networks-keras/\n",
        "*   https://medium.com/@shivajbd/understanding-input-and-output-shape-in-lstm-keras-c501ee95c65e\n",
        "*   https://machinelearningmastery.com/prepare-univariate-time-series-data-long-short-term-memory-networks/\n",
        "*   https://heartbeat.fritz.ai/a-beginners-guide-to-implementing-long-short-term-memory-networks-lstm-eb7a2ff09a27\n",
        "*   https://machinelearningmastery.com/reshape-input-data-long-short-term-memory-networks-keras/\n",
        "*   https://github.com/jasonwu0731/Sentiment-Analysis/blob/master/LSTM-Model/model.py\n",
        "*   https://github.com/jbarnesspain/sota_sentiment/blob/master/lstm_bilstm.py\n",
        "*   https://www.programcreek.com/python/example/89708/keras.layers.LSTM\n",
        "*   https://github.com/jasonwu0731/Sentiment-Analysis/blob/master/LSTM-Model/train.py\n",
        "*   https://github.com/happynoom/DeepTrade_keras/blob/master/windpuller.py"
      ]
    },
    {
      "cell_type": "code",
      "metadata": {
        "id": "pErjoF78ROoZ",
        "colab_type": "code",
        "colab": {}
      },
      "source": [
        "class model_LSTM():\n",
        "\n",
        "    def __init__(self,\n",
        "                 name,\n",
        "                 n_classes,  #len(df['category'].unique()) OR Y_train.shape[1]\n",
        "                 vocab_size, #MAX_NB_WORDS\n",
        "                 max_len,    #X.shape[1]\n",
        "                 embedding_size, # EMBEDDING_DIM\n",
        "                 num_units = 128,\n",
        "                 useBiDirection=False,\n",
        "                 useAttention=False,\n",
        "                 Spatial_Dropout=True,\n",
        "                 learning_rate=0.001,\n",
        "                 dropout=0.38,\n",
        "                 recurrent_dropout=0.25,\n",
        "                 return_sequences = True,\n",
        "                 optimizer='adam'): # OR 'SGD','Adadelta'\n",
        "        \n",
        "        \n",
        "        self.model = Sequential(name=name)\n",
        "        self.model.add(Embedding(input_dim=vocab_size, \n",
        "                                 output_dim=embedding_size,\n",
        "                                 input_length=max_len))\n",
        "        \n",
        "        if Spatial_Dropout:\n",
        "            self.model.add(SpatialDropout1D(0.20))\n",
        "            \n",
        "        #Capa LSTM de plantilla\n",
        "        lstm_model = LSTM(max_len, dropout=dropout, recurrent_dropout=recurrent_dropout, return_sequences = return_sequences)\n",
        "        \n",
        "        if useBiDirection:\n",
        "            lstm_model = Bidirectional(lstm_model)\n",
        "        \n",
        "        #Agrega capa LSTM elegida en el paso anterior, Bidereccional o Sencilla\n",
        "        self.model.add(lstm_model)\n",
        "            \n",
        "        #Agrega una capa más LSTM\n",
        "        if return_sequences:\n",
        "            self.model.add(LSTM(max_len, return_sequences = False))\n",
        "\n",
        "        # Flatten para terminar con una Red Neuronal de 2 capas ocultas\n",
        "        self.model.add(Dense(max_len*20, activation='relu', kernel_initializer='he_normal'))\n",
        "        self.model.add(Dense(max_len*40, activation='relu', kernel_initializer='he_normal'))\n",
        "        self.model.add(Dropout(dropout))\n",
        "        self.model.add(Dense(max_len*80, activation='relu', kernel_initializer='he_normal'))\n",
        "        \n",
        "        #Ultima capa\n",
        "        self.model.add(Dense(n_classes, activation='softmax'))\n",
        "        \n",
        "        self.model.compile(loss='sparse_categorical_crossentropy',\n",
        "                           optimizer=optimizer,\n",
        "                           metrics=['accuracy'])\n",
        "        self.model.summary()"
      ],
      "execution_count": 0,
      "outputs": []
    },
    {
      "cell_type": "code",
      "metadata": {
        "colab_type": "code",
        "id": "pEgV4Y5NU9Hl",
        "outputId": "647d4f27-1733-410c-87cf-b01d462ae38e",
        "colab": {
          "base_uri": "https://localhost:8080/",
          "height": 34
        }
      },
      "source": [
        "size = 0\n",
        "for l in clean_sentences:\n",
        "    if len(l)>size:\n",
        "        size=len(l)\n",
        "        \n",
        "print(f'valor de size: {size}') #El tamaño del titutar más largo encontrado en el corpus"
      ],
      "execution_count": 0,
      "outputs": [
        {
          "output_type": "stream",
          "text": [
            "valor de size: 20\n"
          ],
          "name": "stdout"
        }
      ]
    },
    {
      "cell_type": "code",
      "metadata": {
        "colab_type": "code",
        "id": "ZMM0RyCnJ-eM",
        "colab": {}
      },
      "source": [
        "# Max number of words in each complaint.\n",
        "MAX_SEQUENCE_LENGTH = size\n",
        "\n",
        "# This is fixed.\n",
        "EMBEDDING_DIM = size*1.25\n",
        "\n",
        "tokenizer = Tokenizer()\n",
        "tokenizer.fit_on_texts(df['clean_title'].values)\n",
        "\n",
        "XX = tokenizer.texts_to_sequences(df['clean_title'].values)\n",
        "XX = pad_sequences(XX, maxlen=MAX_SEQUENCE_LENGTH)\n",
        "\n",
        "word_index = tokenizer.word_index\n",
        "print('Found %s unique tokens.' % len(word_index))\n",
        "describe(word_index)\n",
        "\n",
        "# The maximum number of words to be used. (most frequent)\n",
        "MAX_NB_WORDS = len(word_index)\n",
        "\n",
        "YY = np.array(df['classes'])"
      ],
      "execution_count": 0,
      "outputs": []
    },
    {
      "cell_type": "code",
      "metadata": {
        "id": "Cvh6EUwAROog",
        "colab_type": "code",
        "outputId": "44cdfbfa-152b-4594-d62c-5be94dc07385",
        "colab": {}
      },
      "source": [
        "X_RNN_train, X_RNN_test, Y_RNN_train, Y_RNN_test = train_test_split(XX,\n",
        "                                                                    YY, #Las clases de los elementos\n",
        "                                                                    test_size = 0.20,\n",
        "                                                                    random_state = 42)\n",
        "print('Done...')\n",
        "\n",
        "n_clases = len(df['category'].unique())\n",
        "\n",
        "print('Tamaño de X_train:', X_RNN_train.shape)\n",
        "print('Tamaño de Y_train:', Y_RNN_train.shape)\n",
        "\n",
        "print('Tamaño de X_test:', X_RNN_test.shape)\n",
        "print('Tamaño de Y_test:', Y_RNN_test.shape)\n",
        "\n",
        "print('Número de clases:', n_clases)"
      ],
      "execution_count": 0,
      "outputs": [
        {
          "output_type": "stream",
          "text": [
            "Done...\n",
            "Tamaño de X_train: (7998058, 20)\n",
            "Tamaño de Y_train: (7998058,)\n",
            "Tamaño de X_test: (1999515, 20)\n",
            "Tamaño de Y_test: (1999515,)\n",
            "Número de clases: 1574\n"
          ],
          "name": "stdout"
        }
      ]
    },
    {
      "cell_type": "code",
      "metadata": {
        "colab_type": "code",
        "id": "6YAotSpSJfcZ",
        "outputId": "1b77375e-595b-48c1-e417-63e0146ca6a6",
        "colab": {
          "base_uri": "https://localhost:8080/",
          "height": 34
        }
      },
      "source": [
        "# print('Features de entrada: {}, Categorias de salida: {}'.format(X_RNN_train.shape[1], Y_RNN_train.shape[1]))\n",
        "print(f'Features de entrada: {X_RNN_train.shape[1]}, Numero de muestras de entrenamiento: {Y_RNN_train.shape[0]} Categorias de salida: {n_clases}')"
      ],
      "execution_count": 0,
      "outputs": [
        {
          "output_type": "stream",
          "text": [
            "Features de entrada: 20, Numero de muestras de entrenamiento: 7998058 Categorias de salida: 1574\n"
          ],
          "name": "stdout"
        }
      ]
    },
    {
      "cell_type": "markdown",
      "metadata": {
        "colab_type": "text",
        "id": "NJsLdhFrOA7r"
      },
      "source": [
        "### Set-up Arquitecture"
      ]
    },
    {
      "cell_type": "code",
      "metadata": {
        "id": "qCkUhbYcROoj",
        "colab_type": "code",
        "outputId": "7ca91f43-550f-4830-ae70-96be675acdcd",
        "colab": {}
      },
      "source": [
        "kwargs = {'n_classes':n_clases, #OR Y_train.shape[1] cuando es hotencoding\n",
        "          'vocab_size':MAX_NB_WORDS,\n",
        "          'embedding_size': int(EMBEDDING_DIM),\n",
        "          'max_len' : X_RNN_train.shape[1],\n",
        "          'num_units' : 128,\n",
        "          'useBiDirection': False,\n",
        "          'Spatial_Dropout':True,\n",
        "          'learning_rate':  0.001,\n",
        "          'dropout': 0.38,\n",
        "          'recurrent_dropout': 0.25,\n",
        "          'return_sequences' : False,\n",
        "          'optimizer':'adam' # OR 'SGD','Adadelta'}\n",
        "          }\n",
        "\n",
        "model_LSTMv1 = model_LSTM(name = 'LSTMv1', **kwargs)"
      ],
      "execution_count": 0,
      "outputs": [
        {
          "output_type": "stream",
          "text": [
            "Model: \"LSTMv1\"\n",
            "_________________________________________________________________\n",
            "Layer (type)                 Output Shape              Param #   \n",
            "=================================================================\n",
            "embedding_15 (Embedding)     (None, 20, 25)            10285925  \n",
            "_________________________________________________________________\n",
            "spatial_dropout1d_15 (Spatia (None, 20, 25)            0         \n",
            "_________________________________________________________________\n",
            "lstm_5 (LSTM)                (None, 20)                3680      \n",
            "_________________________________________________________________\n",
            "dense_14 (Dense)             (None, 400)               8400      \n",
            "_________________________________________________________________\n",
            "dense_15 (Dense)             (None, 800)               320800    \n",
            "_________________________________________________________________\n",
            "dropout_6 (Dropout)          (None, 800)               0         \n",
            "_________________________________________________________________\n",
            "dense_16 (Dense)             (None, 1600)              1281600   \n",
            "_________________________________________________________________\n",
            "dense_17 (Dense)             (None, 1574)              2519974   \n",
            "=================================================================\n",
            "Total params: 14,420,379\n",
            "Trainable params: 14,420,379\n",
            "Non-trainable params: 0\n",
            "_________________________________________________________________\n"
          ],
          "name": "stdout"
        }
      ]
    },
    {
      "cell_type": "code",
      "metadata": {
        "id": "VkGtGMQGROol",
        "colab_type": "code",
        "outputId": "c27e1dc3-fcd6-4758-a69f-3db548b8576a",
        "colab": {}
      },
      "source": [
        "kwargs = {'n_classes':n_clases, #OR Y_train.shape[1] cuando es hotencoding\n",
        "          'vocab_size':MAX_NB_WORDS,\n",
        "          'embedding_size': int(EMBEDDING_DIM),\n",
        "          'max_len' : X_RNN_train.shape[1],\n",
        "          'num_units' : 128,\n",
        "          'useBiDirection': True,\n",
        "          'Spatial_Dropout':True,\n",
        "          'learning_rate':  0.001,\n",
        "          'dropout': 0.38,\n",
        "          'recurrent_dropout': 0.25,\n",
        "          'return_sequences' : True,\n",
        "          'optimizer':'adam' # OR 'SGD','Adadelta'}\n",
        "          }\n",
        "\n",
        "model_LSTM_Bi = model_LSTM(name = 'LSTM_Bi', **kwargs)"
      ],
      "execution_count": 0,
      "outputs": [
        {
          "output_type": "stream",
          "text": [
            "Model: \"LSTM_Bi\"\n",
            "_________________________________________________________________\n",
            "Layer (type)                 Output Shape              Param #   \n",
            "=================================================================\n",
            "embedding_14 (Embedding)     (None, 20, 25)            10285925  \n",
            "_________________________________________________________________\n",
            "spatial_dropout1d_14 (Spatia (None, 20, 25)            0         \n",
            "_________________________________________________________________\n",
            "bidirectional_10 (Bidirectio (None, 20, 40)            7360      \n",
            "_________________________________________________________________\n",
            "lstm_4 (LSTM)                (None, 20)                4880      \n",
            "_________________________________________________________________\n",
            "dense_10 (Dense)             (None, 400)               8400      \n",
            "_________________________________________________________________\n",
            "dense_11 (Dense)             (None, 800)               320800    \n",
            "_________________________________________________________________\n",
            "dropout_5 (Dropout)          (None, 800)               0         \n",
            "_________________________________________________________________\n",
            "dense_12 (Dense)             (None, 1600)              1281600   \n",
            "_________________________________________________________________\n",
            "dense_13 (Dense)             (None, 1574)              2519974   \n",
            "=================================================================\n",
            "Total params: 14,428,939\n",
            "Trainable params: 14,428,939\n",
            "Non-trainable params: 0\n",
            "_________________________________________________________________\n"
          ],
          "name": "stdout"
        }
      ]
    },
    {
      "cell_type": "code",
      "metadata": {
        "colab_type": "code",
        "id": "XYbKLhLGKBQb",
        "colab": {}
      },
      "source": [
        "# n_timesteps = 10\n",
        "# results = DataFrame()\n",
        "\n",
        "# # lstm forwards\n",
        "# model = get_lstm_model(n_timesteps, False)\n",
        "# results['lstm_forw'] = train_model(model, n_timesteps)\n",
        "\n",
        "# # lstm backwards\n",
        "# model = get_lstm_model(n_timesteps, True)\n",
        "# results['lstm_back'] = train_model(model, n_timesteps)\n",
        "\n",
        "# # bidirectional concat\n",
        "# model = get_bi_lstm_model(n_timesteps, 'concat')\n",
        "# results['bilstm_con'] = train_model(model, n_timesteps)\n",
        "\n",
        "# # line plot of results\n",
        "# results.plot()\n",
        "# pyplot.show()"
      ],
      "execution_count": 0,
      "outputs": []
    },
    {
      "cell_type": "markdown",
      "metadata": {
        "colab_type": "text",
        "id": "oP2PNajzN6iC"
      },
      "source": [
        "### Train"
      ]
    },
    {
      "cell_type": "code",
      "metadata": {
        "id": "pruXkunTROop",
        "colab_type": "code",
        "colab": {}
      },
      "source": [
        "def train_model(Models, epochs, batch_size, X_train, Y_train):\n",
        "    loss = list()\n",
        "    val_loss = list()\n",
        "    acc = list()\n",
        "    val_acc = list()\n",
        "    history = list()\n",
        "    \n",
        "    for model in Models:\n",
        "        # fit model for one epoch on this sequence\n",
        "        \n",
        "        print('\\nEntrenado la red: ' + str(model.model.name) +'\\n')\n",
        "        \n",
        "        hist = model.model.fit(X_train,\n",
        "                               Y_train,\n",
        "                               epochs=epochs,\n",
        "                               batch_size=batch_size,\n",
        "                               verbose=1,\n",
        "                               validation_split=0.1,\n",
        "                               callbacks=[EarlyStopping(monitor='val_loss', patience=3, min_delta=0.0001)])# \n",
        "        \n",
        "#         loss.append(hist.history['loss'])\n",
        "#         val_loss.append(hist.history['val_loss'])\n",
        "#         acc.append(hist.history['accuracy'])\n",
        "#         val_acc.append(hist.history['val_accuracy'])\n",
        "        history.append(hist.history)\n",
        "  \n",
        "    return history"
      ],
      "execution_count": 0,
      "outputs": []
    },
    {
      "cell_type": "code",
      "metadata": {
        "colab_type": "code",
        "id": "n007mIomODa_",
        "outputId": "6083eab5-4ed8-40e5-c4d5-12e540a059e8",
        "colab": {}
      },
      "source": [
        "epochs = 10\n",
        "batch_size = 12496\n",
        "Pred = np.array(Y_RNN_train)\n",
        "\n",
        "Models = [model_LSTMv1, model_LSTM_Bi]\n",
        "\n",
        "histories = train_model(Models,\n",
        "                        epochs,\n",
        "                        batch_size,\n",
        "                        X_train=X_RNN_train,\n",
        "                        Y_train=Y_RNN_train)"
      ],
      "execution_count": 0,
      "outputs": [
        {
          "output_type": "stream",
          "text": [
            "\n",
            "Entrenado la red: LSTMv1\n",
            "\n",
            "Train on 7198252 samples, validate on 799806 samples\n",
            "Epoch 1/10\n",
            "7198252/7198252 [==============================] - 107s 15us/sample - loss: 3.1706 - accuracy: 0.3376 - val_loss: 1.8243 - val_accuracy: 0.6625\n",
            "Epoch 2/10\n",
            "7198252/7198252 [==============================] - 104s 15us/sample - loss: 3.1196 - accuracy: 0.3489 - val_loss: 1.7842 - val_accuracy: 0.6705\n",
            "Epoch 3/10\n",
            "7198252/7198252 [==============================] - 105s 15us/sample - loss: 3.0725 - accuracy: 0.3596 - val_loss: 1.7506 - val_accuracy: 0.6754\n",
            "Epoch 4/10\n",
            "7198252/7198252 [==============================] - 106s 15us/sample - loss: 3.0328 - accuracy: 0.3688 - val_loss: 1.7260 - val_accuracy: 0.6794\n",
            "Epoch 5/10\n",
            "7198252/7198252 [==============================] - 105s 15us/sample - loss: 2.9947 - accuracy: 0.3778 - val_loss: 1.7038 - val_accuracy: 0.6840\n",
            "Epoch 6/10\n",
            "7198252/7198252 [==============================] - 105s 15us/sample - loss: 2.9607 - accuracy: 0.3861 - val_loss: 1.6845 - val_accuracy: 0.6883\n",
            "Epoch 7/10\n",
            "7198252/7198252 [==============================] - 105s 15us/sample - loss: 2.9296 - accuracy: 0.3938 - val_loss: 1.6665 - val_accuracy: 0.6910\n",
            "Epoch 8/10\n",
            "7198252/7198252 [==============================] - 104s 14us/sample - loss: 2.9022 - accuracy: 0.4003 - val_loss: 1.6540 - val_accuracy: 0.6927\n",
            "Epoch 9/10\n",
            "7198252/7198252 [==============================] - 105s 15us/sample - loss: 2.8760 - accuracy: 0.4062 - val_loss: 1.6393 - val_accuracy: 0.6958\n",
            "Epoch 10/10\n",
            "7198252/7198252 [==============================] - 104s 14us/sample - loss: 2.8518 - accuracy: 0.4124 - val_loss: 1.6320 - val_accuracy: 0.6972\n",
            "\n",
            "Entrenado la red: LSTM_Bi\n",
            "\n",
            "Train on 7198252 samples, validate on 799806 samples\n",
            "Epoch 1/10\n",
            "7198252/7198252 [==============================] - 136s 19us/sample - loss: 4.4479 - accuracy: 0.1060 - val_loss: 3.5476 - val_accuracy: 0.3055\n",
            "Epoch 2/10\n",
            "7198252/7198252 [==============================] - 135s 19us/sample - loss: 4.1102 - accuracy: 0.1470 - val_loss: 3.1794 - val_accuracy: 0.3776\n",
            "Epoch 3/10\n",
            "7198252/7198252 [==============================] - 137s 19us/sample - loss: 3.8694 - accuracy: 0.1829 - val_loss: 2.9208 - val_accuracy: 0.4287\n",
            "Epoch 4/10\n",
            "7198252/7198252 [==============================] - 136s 19us/sample - loss: 3.6836 - accuracy: 0.2156 - val_loss: 2.6973 - val_accuracy: 0.4800\n",
            "Epoch 5/10\n",
            "7198252/7198252 [==============================] - 136s 19us/sample - loss: 3.5349 - accuracy: 0.2453 - val_loss: 2.5354 - val_accuracy: 0.5142\n",
            "Epoch 6/10\n",
            "7198252/7198252 [==============================] - 137s 19us/sample - loss: 3.4100 - accuracy: 0.2712 - val_loss: 2.4027 - val_accuracy: 0.5440\n",
            "Epoch 7/10\n",
            "7198252/7198252 [==============================] - 135s 19us/sample - loss: 3.2992 - accuracy: 0.2959 - val_loss: 2.2839 - val_accuracy: 0.5693\n",
            "Epoch 8/10\n",
            "7198252/7198252 [==============================] - 136s 19us/sample - loss: 3.2032 - accuracy: 0.3172 - val_loss: 2.1921 - val_accuracy: 0.5910\n",
            "Epoch 9/10\n",
            "7198252/7198252 [==============================] - 137s 19us/sample - loss: 3.1214 - accuracy: 0.3359 - val_loss: 2.1198 - val_accuracy: 0.6033\n",
            "Epoch 10/10\n",
            "7198252/7198252 [==============================] - 135s 19us/sample - loss: 3.0517 - accuracy: 0.3523 - val_loss: 2.0709 - val_accuracy: 0.6148\n"
          ],
          "name": "stdout"
        },
        {
          "output_type": "error",
          "ename": "ValueError",
          "evalue": "not enough values to unpack (expected 5, got 2)",
          "traceback": [
            "\u001b[1;31m---------------------------------------------------------------------------\u001b[0m",
            "\u001b[1;31mValueError\u001b[0m                                Traceback (most recent call last)",
            "\u001b[1;32m<ipython-input-84-22fe5a1d8dc0>\u001b[0m in \u001b[0;36m<module>\u001b[1;34m\u001b[0m\n\u001b[0;32m      9\u001b[0m                                                 \u001b[0mbatch_size\u001b[0m\u001b[1;33m,\u001b[0m\u001b[1;33m\u001b[0m\u001b[1;33m\u001b[0m\u001b[0m\n\u001b[0;32m     10\u001b[0m                                                 \u001b[0mX_train\u001b[0m\u001b[1;33m=\u001b[0m\u001b[0mX_RNN_train\u001b[0m\u001b[1;33m,\u001b[0m\u001b[1;33m\u001b[0m\u001b[1;33m\u001b[0m\u001b[0m\n\u001b[1;32m---> 11\u001b[1;33m                                                 Y_train=Y_RNN_train)\n\u001b[0m",
            "\u001b[1;31mValueError\u001b[0m: not enough values to unpack (expected 5, got 2)"
          ]
        }
      ]
    },
    {
      "cell_type": "markdown",
      "metadata": {
        "id": "rSGVQwZYROor",
        "colab_type": "text"
      },
      "source": [
        "##### Evaluate"
      ]
    },
    {
      "cell_type": "code",
      "metadata": {
        "colab_type": "code",
        "id": "q4guB6VoX_vY",
        "colab": {}
      },
      "source": [
        "print(model_LSTM_Bi.model.metrics_names)\n",
        "lss, accr = model_LSTMv1.model.evaluate(X_RNN_test,\n",
        "                                        Y_RNN_test,\n",
        "                                        batch_size = 100)"
      ],
      "execution_count": 0,
      "outputs": []
    },
    {
      "cell_type": "code",
      "metadata": {
        "id": "n0MhpyL_ROot",
        "colab_type": "code",
        "colab": {}
      },
      "source": [
        "print('Test set\\n  Loss: {:0.3f}\\n  Accuracy: {:0.3f}'.format(accr[0],accr[1]))"
      ],
      "execution_count": 0,
      "outputs": []
    },
    {
      "cell_type": "markdown",
      "metadata": {
        "id": "v0TZs_x1ROou",
        "colab_type": "text"
      },
      "source": [
        "##### Predict"
      ]
    },
    {
      "cell_type": "code",
      "metadata": {
        "id": "ny9HU3w1ROou",
        "colab_type": "code",
        "colab": {}
      },
      "source": [
        "unknown = ['Taladro Impacto Velocidad Variable Y Reversible Stanprof',\n",
        "           'iPhone Xr 64gb 12mp/7mp 3gb Ram 4g Sellado',\n",
        "           'Zapato Croydon Slimer Cr Negro Para Hombre',\n",
        "           'Impresora Multifuncional Epson Ecotank L3150',\n",
        "           'Celular Huawei P30 Lite 128gb 4gb Cámara Triple + Vidrio 5d',\n",
        "           'Waflera Oster Ckstwf2000-1am Belgian Waffle Maker',\n",
        "           'Celular Libre Xiaomi Mi 9t Versión Global 64 Gb 6 Gb Ram',\n",
        "           'Guitarra Electrica Ibanez Rgew521fm-ntf',\n",
        "           'Cubo Rubik Rompecabezas Cubo Rubik Mágico Carbono 3x3',\n",
        "           'Cámara Semi Profesional Sony De 20.4mp Y Hi-zoom-dsc-hx400v',\n",
        "           'schwarzkopf fibre force mascarilla fortificante',\n",
        "           'nuevo contador billetes para detecta falsos']"
      ],
      "execution_count": 0,
      "outputs": []
    },
    {
      "cell_type": "code",
      "metadata": {
        "colab_type": "code",
        "id": "ZN5V4rWeYQQI",
        "outputId": "031ab84f-68c3-4c0f-c8b7-6d9b2a699dde",
        "colab": {
          "base_uri": "https://localhost:8080/",
          "height": 34
        }
      },
      "source": [
        "new_complaint = ['Cubo Rubik Rompecabezas Cubo Rubik Mágico Carbono 3x3']\n",
        "seq = tokenizer.texts_to_sequences(new_complaint)\n",
        "padded = pad_sequences(seq, maxlen=MAX_SEQUENCE_LENGTH)\n",
        "\n",
        "pred = model_LSTMv1.model.predict(padded)\n",
        "\n",
        "# labels = list(df['category'].unique())\n",
        "print(set(df['category'][df['classes']==np.argmax(pred)]))\n",
        "print(labels[np.argmax(pred)])"
      ],
      "execution_count": 0,
      "outputs": [
        {
          "output_type": "stream",
          "text": [
            "{'PUZZLE_CUBES'}\n",
            "BASEBOARDS\n"
          ],
          "name": "stdout"
        }
      ]
    },
    {
      "cell_type": "code",
      "metadata": {
        "id": "tbOYqYbuROox",
        "colab_type": "code",
        "colab": {}
      },
      "source": [
        "import numpy as np"
      ],
      "execution_count": 0,
      "outputs": []
    },
    {
      "cell_type": "code",
      "metadata": {
        "id": "9uu9WebWROoy",
        "colab_type": "code",
        "outputId": "e354fd21-9609-4def-c558-6d0ac4fc70dc",
        "colab": {}
      },
      "source": [
        "t = np.asarray([np.asarray([[0,1],\n",
        "                            [1,2],\n",
        "                            [1,2]])])\n",
        "t"
      ],
      "execution_count": 0,
      "outputs": [
        {
          "output_type": "execute_result",
          "data": {
            "text/plain": [
              "array([[[0, 1],\n",
              "        [1, 2],\n",
              "        [1, 2]]])"
            ]
          },
          "metadata": {
            "tags": []
          },
          "execution_count": 11
        }
      ]
    },
    {
      "cell_type": "code",
      "metadata": {
        "id": "jkNBqZTsROoz",
        "colab_type": "code",
        "outputId": "add67ed3-73d4-4356-c43d-274755c27249",
        "colab": {}
      },
      "source": [
        "t.shape"
      ],
      "execution_count": 0,
      "outputs": [
        {
          "output_type": "execute_result",
          "data": {
            "text/plain": [
              "(1, 3, 2)"
            ]
          },
          "metadata": {
            "tags": []
          },
          "execution_count": 12
        }
      ]
    },
    {
      "cell_type": "code",
      "metadata": {
        "id": "9IDsxiuEROo2",
        "colab_type": "code",
        "outputId": "32d96668-10b7-4843-8a8c-e78861615d6c",
        "colab": {}
      },
      "source": [
        "n = [[0,0],[1,1],[2,2],[3,3]]\n",
        "m = np.array(n)\n",
        "m"
      ],
      "execution_count": 0,
      "outputs": [
        {
          "output_type": "execute_result",
          "data": {
            "text/plain": [
              "array([[0, 0],\n",
              "       [1, 1],\n",
              "       [2, 2],\n",
              "       [3, 3]])"
            ]
          },
          "metadata": {
            "tags": []
          },
          "execution_count": 13
        }
      ]
    },
    {
      "cell_type": "code",
      "metadata": {
        "id": "c6zEJ9IJROo3",
        "colab_type": "code",
        "outputId": "daa62ecf-f735-490d-d1a0-9e6c8fec1b33",
        "colab": {}
      },
      "source": [
        "m.shape"
      ],
      "execution_count": 0,
      "outputs": [
        {
          "output_type": "execute_result",
          "data": {
            "text/plain": [
              "(4, 2)"
            ]
          },
          "metadata": {
            "tags": []
          },
          "execution_count": 14
        }
      ]
    },
    {
      "cell_type": "code",
      "metadata": {
        "id": "t9u6HYZpROo4",
        "colab_type": "code",
        "outputId": "22205c93-03a0-4a23-a046-534bdc25777a",
        "colab": {}
      },
      "source": [
        "w = np.asarray([m])\n",
        "w"
      ],
      "execution_count": 0,
      "outputs": [
        {
          "output_type": "execute_result",
          "data": {
            "text/plain": [
              "array([[[0, 0],\n",
              "        [1, 1],\n",
              "        [2, 2],\n",
              "        [3, 3]]])"
            ]
          },
          "metadata": {
            "tags": []
          },
          "execution_count": 18
        }
      ]
    },
    {
      "cell_type": "code",
      "metadata": {
        "id": "YLIJzmRsROo6",
        "colab_type": "code",
        "outputId": "2a0ceea5-7ef3-4d86-c266-8f3c9eb96a84",
        "colab": {}
      },
      "source": [
        "w.shape"
      ],
      "execution_count": 0,
      "outputs": [
        {
          "output_type": "execute_result",
          "data": {
            "text/plain": [
              "(1, 4, 2)"
            ]
          },
          "metadata": {
            "tags": []
          },
          "execution_count": 19
        }
      ]
    },
    {
      "cell_type": "markdown",
      "metadata": {
        "id": "U3N0KDrOROo8",
        "colab_type": "text"
      },
      "source": [
        "#### GRU\n",
        "\n",
        "https://medium.com/@david.campion/text-generation-using-bidirectional-lstm-and-doc2vec-models-1-3-8979eb65cb3a"
      ]
    },
    {
      "cell_type": "code",
      "metadata": {
        "id": "8aue6IxUROo9",
        "colab_type": "code",
        "outputId": "c1b21927-76a9-4ec9-dafd-9b1a0d44f582",
        "colab": {}
      },
      "source": [
        "lrelu = lambda x: LeakyReLU(alpha=0.1)(x)\n",
        "\n",
        "n_classes=n_clases\n",
        "vocab_size=MAX_NB_WORDS\n",
        "max_len=X_RNN_train.shape[1]  \n",
        "embedding_size=int(EMBEDDING_DIM)\n",
        "num_units = 128,\n",
        "useBiDirection=False,\n",
        "# useAttention=False,\n",
        "Spatial_Dropout=False,\n",
        "# learning_rate=0.001,\n",
        "dropout=0.38,\n",
        "recurrent_dropout=0.25,\n",
        "return_sequences = True,\n",
        "optimizer='adam' # OR 'SGD','Adadelta'\n",
        "\n",
        "      \n",
        "model_GRU = Sequential(name='GRU')\n",
        "model_GRU.add(Embedding(input_dim=vocab_size, \n",
        "                        output_dim=embedding_size,\n",
        "                        input_length=max_len))\n",
        "        \n",
        "if Spatial_Dropout:\n",
        "    model_GRU.add(SpatialDropout1D(0.20))\n",
        "            \n",
        "#Capa GRU de plantilla\n",
        "gru_model = GRU(embedding_size, dropout=0.3, recurrent_dropout=0.25, activation=\"selu\", return_sequences = return_sequences, kernel_initializer='lecun_normal')\n",
        "\n",
        "if useBiDirection:\n",
        "    gru_model = Bidirectional(gru_model) #, dropout=dropout, recurrent_dropout=recurrent_dropout, return_sequences = return_sequences\n",
        "    \n",
        "#Agrega capa GRU elegida en el paso anterior, Bidereccional o Sencilla\n",
        "model_GRU.add(gru_model)\n",
        "model_GRU.add(GRU(embedding_size, return_sequences = return_sequences))\n",
        "            \n",
        "#Agrega una capa más GRU\n",
        "if return_sequences:\n",
        "    model_GRU.add(GRU(embedding_size, return_sequences = False))\n",
        "\n",
        "# Flatten para terminar con una Red Neuronal de 2 capas ocultas\n",
        "model_GRU.add(Dense(embedding_size*15, activation=lrelu, kernel_initializer='he_normal'))\n",
        "model_GRU.add(Dense(embedding_size*30, activation=lrelu, kernel_initializer='he_normal'))\n",
        "# model_GRU.add(AlphaDropout(0.38)) Con SeLu\n",
        "model_GRU.add(Dropout(0.38))\n",
        "model_GRU.add(Dense(embedding_size*60, activation=lrelu, kernel_initializer='he_normal'))\n",
        "        \n",
        "#Ultima capa\n",
        "model_GRU.add(Dense(n_classes, activation='softmax'))\n",
        "        \n",
        "model_GRU.compile(loss='sparse_categorical_crossentropy',\n",
        "                  optimizer=optimizer,\n",
        "                  metrics=['accuracy']) #Categorical accuracy\n",
        "\n",
        "model_GRU.summary()"
      ],
      "execution_count": 0,
      "outputs": [
        {
          "output_type": "stream",
          "text": [
            "Model: \"GRU\"\n",
            "_________________________________________________________________\n",
            "Layer (type)                 Output Shape              Param #   \n",
            "=================================================================\n",
            "embedding_35 (Embedding)     (None, 20, 25)            10285925  \n",
            "_________________________________________________________________\n",
            "spatial_dropout1d_35 (Spatia (None, 20, 25)            0         \n",
            "_________________________________________________________________\n",
            "bidirectional_29 (Bidirectio (None, 20, 40)            5640      \n",
            "_________________________________________________________________\n",
            "gru_55 (GRU)                 (None, 250)               219000    \n",
            "_________________________________________________________________\n",
            "dense_67 (Dense)             (None, 524)               131524    \n",
            "_________________________________________________________________\n",
            "dropout_14 (Dropout)         (None, 524)               0         \n",
            "_________________________________________________________________\n",
            "dense_68 (Dense)             (None, 787)               413175    \n",
            "_________________________________________________________________\n",
            "dense_69 (Dense)             (None, 1574)              1240312   \n",
            "=================================================================\n",
            "Total params: 12,295,576\n",
            "Trainable params: 12,295,576\n",
            "Non-trainable params: 0\n",
            "_________________________________________________________________\n"
          ],
          "name": "stdout"
        }
      ]
    },
    {
      "cell_type": "code",
      "metadata": {
        "id": "QFyMMu0eROo-",
        "colab_type": "code",
        "outputId": "ba4bd8c7-3dc4-4deb-cf86-be025d553b4e",
        "colab": {}
      },
      "source": [
        "import tensorflow as tf\n",
        "\n",
        "gpus = tf.config.experimental.list_physical_devices('GPU')\n",
        "\n",
        "if gpus:\n",
        "    try:\n",
        "        # Currently, memory growth needs to be the same across GPUs\n",
        "        for gpu in gpus:\n",
        "            tf.config.experimental.set_visible_devices(gpus[0], 'GPU')\n",
        "            tf.config.experimental.set_memory_growth(gpu, True)\n",
        "            logical_gpus = tf.config.experimental.list_logical_devices('GPU')\n",
        "            print(len(gpus), \"Physical GPUs,\", len(logical_gpus), \"Logical GPUs\")\n",
        "    except RuntimeError as e:\n",
        "        # Memory growth must be set before GPUs have been initialized\n",
        "        print(e)\n",
        "    \n",
        "# tf.config.experimental.set_virtual_device_configuration(gpus[0], [tf.config.experimental.VirtualDeviceConfiguration(memory_limit=5120)])\n",
        "\n",
        "print('Done')"
      ],
      "execution_count": 0,
      "outputs": [
        {
          "output_type": "stream",
          "text": [
            "1 Physical GPUs, 1 Logical GPUs\n",
            "Physical devices cannot be modified after being initialized\n",
            "Done\n"
          ],
          "name": "stdout"
        }
      ]
    },
    {
      "cell_type": "code",
      "metadata": {
        "id": "aHKBYF2RROo_",
        "colab_type": "code",
        "colab": {}
      },
      "source": [
        "epochs = 10\n",
        "batch_size = 12496\n",
        "\n",
        "historyGRU= model_GRU.fit(X_RNN_train,\n",
        "                          Y_RNN_train,\n",
        "                          epochs=epochs,\n",
        "                          batch_size=batch_size,\n",
        "                          verbose=1,\n",
        "                          validation_split=0.1\n",
        "                          )# callbacks=[EarlyStopping(monitor='val_loss', patience=4, min_delta=0.0001)]"
      ],
      "execution_count": 0,
      "outputs": []
    },
    {
      "cell_type": "code",
      "metadata": {
        "colab_type": "code",
        "id": "RWmh-kZ8YEl_",
        "colab": {}
      },
      "source": [
        "plt.title('Loss')\n",
        "plt.plot(history.history['loss'], label='train')\n",
        "plt.plot(history.history['val_loss'], label='test')\n",
        "plt.legend()\n",
        "plt.show();"
      ],
      "execution_count": 0,
      "outputs": []
    },
    {
      "cell_type": "code",
      "metadata": {
        "colab_type": "code",
        "id": "XWNvAynjYEqf",
        "colab": {}
      },
      "source": [
        "plt.title('Accuracy')\n",
        "plt.plot(history.history['acc'], label='train')\n",
        "plt.plot(history.history['val_acc'], label='test')\n",
        "plt.legend()\n",
        "plt.show();"
      ],
      "execution_count": 0,
      "outputs": []
    },
    {
      "cell_type": "code",
      "metadata": {
        "colab_type": "code",
        "id": "yAbEFBcaYUuH",
        "colab": {}
      },
      "source": [
        "np.argmax(pred)"
      ],
      "execution_count": 0,
      "outputs": []
    },
    {
      "cell_type": "code",
      "metadata": {
        "id": "_x67e3DiROpF",
        "colab_type": "code",
        "colab": {}
      },
      "source": [
        "# Verificar la cetegoria a la que pertenece un codigo de una clase\n",
        "set(df['category'][df['classes']==245])"
      ],
      "execution_count": 0,
      "outputs": []
    },
    {
      "cell_type": "code",
      "metadata": {
        "id": "Nl607tN_ROpH",
        "colab_type": "code",
        "colab": {}
      },
      "source": [
        ""
      ],
      "execution_count": 0,
      "outputs": []
    }
  ]
}